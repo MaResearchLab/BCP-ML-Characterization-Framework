{
 "cells": [
  {
   "cell_type": "code",
   "execution_count": 6,
   "id": "e0ad5141-63ff-4032-9796-63f3a798cca2",
   "metadata": {},
   "outputs": [],
   "source": [
    "# Read area values from 'grain_size_summary.txt'\n",
    "grain_areas = {}\n",
    "with open('grain_size_summary_mixed.txt', 'r') as f:\n",
    "    for line in f:\n",
    "        parts = line.split(':')\n",
    "        if len(parts) == 2:\n",
    "            sample = parts[0].strip()\n",
    "            value = float(parts[1].split()[0])  # Extract numerical value\n",
    "            grain_areas[sample] = value\n",
    "# print(grain_areas)\n",
    "# Compute scaled values and write to output file\n",
    "with open('scaled_grain_mixed.txt', 'w') as f:\n",
    "    for sample, area in grain_areas.items():\n",
    "        # print(area)\n",
    "        scaled_value = area / 66564\n",
    "        f.write(f\"{sample}: {scaled_value:.4f} pixels\\n\")"
   ]
  },
  {
   "cell_type": "code",
   "execution_count": 19,
   "id": "a6892e5d-a58c-441a-b0d6-b2147e717f16",
   "metadata": {},
   "outputs": [],
   "source": [
    "# Read area values from 'grain_size_summary.txt'\n",
    "dot_areas = {}\n",
    "with open('scaled_grain_mixed.txt', 'r') as f:\n",
    "    for line in f:\n",
    "        parts = line.split(':')\n",
    "        # print(parts)\n",
    "        if len(parts) == 2:\n",
    "            sample = parts[0].strip()\n",
    "            # print(sample)\n",
    "            value = float(parts[1].split()[0])  # Extract numerical value\n",
    "            # print(value)\n",
    "            dot_areas[sample] = value\n",
    "\n",
    "line_areas = {}\n",
    "with open('../color_wheel/mixed_real_space_grain_area_sorted.txt', 'r') as f:\n",
    "    for line in f:\n",
    "        parts = line.split(':')\n",
    "        if len(parts) == 2:\n",
    "            sample = parts[0].strip()\n",
    "            value = float(parts[1].split()[0])  # Extract numerical value\n",
    "            line_areas[sample] = value\n",
    "# print(line_areas)\n",
    "# print(dot_areas)\n",
    "# Compute scaled values and write to output file\n",
    "with open('combined_mixed_grain.txt', 'w') as f:\n",
    "    for dot_sample, dot_area in dot_areas.items():\n",
    "        # print(dot_area)\n",
    "        for line_sample, line_area in line_areas.items():\n",
    "            # print(line_sample)\n",
    "            if dot_sample == line_sample:\n",
    "                scaled_value = (dot_area+line_area) / 2\n",
    "                f.write(f\"{line_sample}: {scaled_value:.4f} pixels\\n\")"
   ]
  }
 ],
 "metadata": {
  "kernelspec": {
   "display_name": "Python 3 (ipykernel)",
   "language": "python",
   "name": "python3"
  },
  "language_info": {
   "codemirror_mode": {
    "name": "ipython",
    "version": 3
   },
   "file_extension": ".py",
   "mimetype": "text/x-python",
   "name": "python",
   "nbconvert_exporter": "python",
   "pygments_lexer": "ipython3",
   "version": "3.11.7"
  }
 },
 "nbformat": 4,
 "nbformat_minor": 5
}
