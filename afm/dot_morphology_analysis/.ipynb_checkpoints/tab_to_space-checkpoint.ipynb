{
 "cells": [
  {
   "cell_type": "code",
   "execution_count": 4,
   "id": "018eb6a1-8814-423b-a850-8a7c2bf4cb5d",
   "metadata": {},
   "outputs": [
    {
     "name": "stdout",
     "output_type": "stream",
     "text": [
      "Tabs have been replaced with spaces.\n"
     ]
    }
   ],
   "source": [
    "import re\n",
    "\n",
    "def replace_tabs_with_spaces(file_path, spaces_per_tab=4):\n",
    "    # Read the content of the file\n",
    "    with open(file_path, 'r') as file:\n",
    "        content = file.readlines()\n",
    "\n",
    "    # Replace tabs with spaces at the beginning of each line\n",
    "    updated_content = [\n",
    "        re.sub(r'^\\t+', lambda match: ' ' * (len(match.group(0)) * spaces_per_tab), line)\n",
    "        for line in content\n",
    "    ]\n",
    "\n",
    "    # Write the updated content back to the file\n",
    "    with open(file_path, 'w') as file:\n",
    "        file.writelines(updated_content)\n",
    "\n",
    "    print(\"Tabs have been replaced with spaces.\")\n",
    "\n",
    "# Example usage\n",
    "file_path = 'Image_Analysis_Public_Version_voronoi_imanalysis_recursion.py'  # Replace with the path to your Python file\n",
    "replace_tabs_with_spaces(file_path)\n"
   ]
  }
 ],
 "metadata": {
  "kernelspec": {
   "display_name": "Python 3 (ipykernel)",
   "language": "python",
   "name": "python3"
  },
  "language_info": {
   "codemirror_mode": {
    "name": "ipython",
    "version": 3
   },
   "file_extension": ".py",
   "mimetype": "text/x-python",
   "name": "python",
   "nbconvert_exporter": "python",
   "pygments_lexer": "ipython3",
   "version": "3.11.7"
  }
 },
 "nbformat": 4,
 "nbformat_minor": 5
}
