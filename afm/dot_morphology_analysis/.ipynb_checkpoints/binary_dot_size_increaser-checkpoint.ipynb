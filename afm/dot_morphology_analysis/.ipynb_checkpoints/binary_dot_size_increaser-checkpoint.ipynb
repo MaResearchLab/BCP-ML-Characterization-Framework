{
 "cells": [
  {
   "cell_type": "code",
   "execution_count": 4,
   "id": "191a53d0-bfea-4825-bee9-26870c7dbbc0",
   "metadata": {},
   "outputs": [
    {
     "name": "stdout",
     "output_type": "stream",
     "text": [
      "Expanded image saved to expanded_A25_lines.png\n"
     ]
    }
   ],
   "source": [
    "import cv2\n",
    "import numpy as np\n",
    "\n",
    "def expand_white_pixels(image_path, output_path):\n",
    "    # Read image in grayscale mode\n",
    "    image = cv2.imread(image_path, cv2.IMREAD_GRAYSCALE)\n",
    "    \n",
    "    # Ensure binary (0 or 255)\n",
    "    _, binary = cv2.threshold(image, 127, 255, cv2.THRESH_BINARY)\n",
    "\n",
    "    # Define a 3x3 kernel for dilation\n",
    "    kernel = np.ones((2, 2), np.uint8)\n",
    "\n",
    "    # Dilate the white pixels\n",
    "    expanded = cv2.dilate(binary, kernel, iterations=1)\n",
    "\n",
    "    # Save the output image\n",
    "    cv2.imwrite(output_path, expanded)\n",
    "    print(f\"Expanded image saved to {output_path}\")\n",
    "\n",
    "# Example usage\n",
    "expand_white_pixels(\"../labelme/binned/mixed/line_mask/A_25.json_bin_lines.png\", \"expanded_A25_lines.png\")\n"
   ]
  },
  {
   "cell_type": "code",
   "execution_count": 16,
   "id": "db941f24-0c91-4a5c-8eae-43420e27e3ed",
   "metadata": {},
   "outputs": [
    {
     "name": "stdout",
     "output_type": "stream",
     "text": [
      "Inverted image saved to: Mask_0_invert.png\n"
     ]
    }
   ],
   "source": [
    "from PIL import Image\n",
    "\n",
    "def invert_black_white_pixels(image_path, output_path):\n",
    "    image = Image.open(image_path).convert('RGB')\n",
    "    pixels = image.load()\n",
    "\n",
    "    width, height = image.size\n",
    "    for x in range(width):\n",
    "        for y in range(height):\n",
    "            r, g, b = pixels[x, y]\n",
    "            # Check for black (0,0,0)\n",
    "            if (r, g, b) == (0, 0, 0):\n",
    "                pixels[x, y] = (255, 255, 255)\n",
    "            # Check for white (255,255,255)\n",
    "            elif (r, g, b) == (255, 255, 255):\n",
    "                pixels[x, y] = (0, 0, 0)\n",
    "            # Leave other pixels unchanged\n",
    "\n",
    "    image.save(output_path)\n",
    "    print(f\"Inverted image saved to: {output_path}\")\n",
    "\n",
    "# Example usage:\n",
    "invert_black_white_pixels(\"../color_wheel/outputs_v0/A_150/Mask_0.tiff\", \"Mask_0_invert.png\")\n"
   ]
  }
 ],
 "metadata": {
  "kernelspec": {
   "display_name": "Python 3 (ipykernel)",
   "language": "python",
   "name": "python3"
  },
  "language_info": {
   "codemirror_mode": {
    "name": "ipython",
    "version": 3
   },
   "file_extension": ".py",
   "mimetype": "text/x-python",
   "name": "python",
   "nbconvert_exporter": "python",
   "pygments_lexer": "ipython3",
   "version": "3.11.7"
  }
 },
 "nbformat": 4,
 "nbformat_minor": 5
}
