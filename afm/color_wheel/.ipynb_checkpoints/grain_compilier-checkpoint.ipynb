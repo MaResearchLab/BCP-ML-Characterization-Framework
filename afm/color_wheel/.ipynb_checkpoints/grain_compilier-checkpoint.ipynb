{
 "cells": [
  {
   "cell_type": "code",
   "execution_count": 31,
   "id": "22c00dfa",
   "metadata": {},
   "outputs": [
    {
     "name": "stdout",
     "output_type": "stream",
     "text": [
      "CPU times: user 10.7 ms, sys: 8.52 ms, total: 19.2 ms\n",
      "Wall time: 19 ms\n"
     ]
    }
   ],
   "source": [
    "%%time\n",
    "import numpy as np\n",
    "import re\n",
    "\n",
    "def extract_pixels(line):\n",
    "        pattern = r\"Group (\\d+): (\\d+) pixels\"\n",
    "        match = re.search(pattern, line)\n",
    "        if match:\n",
    "            return float(match.group(2))\n",
    "        else:\n",
    "            return None\n",
    "        \n",
    "# Function to calculate the average number of pixels from txt file\n",
    "def PIX_COMPILER(batch, sample, masks):\n",
    "    \n",
    "    pixel_list = []\n",
    "    \n",
    "    for mask in range(masks):\n",
    "        file_path = f\"./outputs/group_filtered/{batch}/{batch}_{sample}/grains/grains_{mask}.txt\"\n",
    "        with open(file_path, 'r') as file:\n",
    "            for line in file:\n",
    "                # print(line)\n",
    "                pixels = extract_pixels(line)\n",
    "                pixel_list.append(pixels)       \n",
    "    return pixel_list\n",
    "\n",
    "# Function that appends the average pixels to a document\n",
    "def SAVE_AVG(output, output_path):\n",
    "    with open(output_path, 'a') as output_file:\n",
    "        output_file.write(output + '\\n')\n",
    "\n",
    "# Execute the functions to save grain data to txt\n",
    "batches= ['A', 'B', 'C', 'D', 'E', 'F']\n",
    "output_path = f\"{batch}_grain_size.txt\"\n",
    "\n",
    "for batch in batches:\n",
    "    sample = 25\n",
    "    for i in range(24): \n",
    "        pixel_list = PIX_COMPILER(batch, sample=sample, masks=5) \n",
    "        # Removing the maximum value\n",
    "        max_val = np.max(pixel_list)\n",
    "        pixel_list.remove(max_val)\n",
    "        # Calculate average group size\n",
    "        average_size = np.mean(pixel_list)\n",
    "        # Remove values not within 150% of the average\n",
    "        threshold = 1.5  # 150%\n",
    "        pixel_list = [pixel for pixel in pixel_list if pixel >= average_size / threshold \n",
    "                      and pixel <= average_size * threshold or pixel > average_size]\n",
    "        \n",
    "        # Calculating and saving the average except for the maximum value\n",
    "        report_avg = np.mean(pixel_list)\n",
    "        norm_avg = ((258*258)/max_val)*(report_avg)\n",
    "        output = f\"Sample {batch}_{sample}: {norm_avg}\"\n",
    "        SAVE_AVG(output, output_path)\n",
    "        \n",
    "        sample += 25"
   ]
  },
  {
   "cell_type": "code",
   "execution_count": 12,
   "id": "1029e2e8-b3da-43e8-b684-abd30c648e18",
   "metadata": {},
   "outputs": [
    {
     "name": "stdout",
     "output_type": "stream",
     "text": [
      "CPU times: user 3.82 ms, sys: 0 ns, total: 3.82 ms\n",
      "Wall time: 4.16 ms\n"
     ]
    }
   ],
   "source": [
    "%%time\n",
    "import numpy as np\n",
    "import re\n",
    "\n",
    "def extract_pixels(line):\n",
    "        pattern = r\"Group (\\d+): (\\d+) pixels\"\n",
    "        match = re.search(pattern, line)\n",
    "        if match:\n",
    "            return float(match.group(2))\n",
    "        else:\n",
    "            return None\n",
    "        \n",
    "# Function to calculate the average number of pixels from txt file\n",
    "def PIX_COMPILER(batch, masks):\n",
    "    \n",
    "    pixel_list = []\n",
    "    \n",
    "    for mask in range(masks):\n",
    "        file_path = f\"../colorwheel_verif/output_test/{batch}/grains/grains_{mask}.txt\"\n",
    "        with open(file_path, 'r') as file:\n",
    "            for line in file:\n",
    "                pixels = extract_pixels(line)\n",
    "                pixel_list.append(pixels)       \n",
    "    return pixel_list\n",
    "\n",
    "# Function that appends the average pixels to a document\n",
    "def SAVE_AVG(output, output_path):\n",
    "    with open(output_path, 'a') as output_file:\n",
    "        output_file.write(output + '\\n')\n",
    "\n",
    "# Execute the functions to save grain data to txt\n",
    "batches= ['A', 'B', 'C', 'D', 'E', 'F']\n",
    "\n",
    "for batch in batches:\n",
    "    output_path = f\"../colorwheel_verif/output_test/{batch}_grain_size.txt\"\n",
    "    pixel_list = PIX_COMPILER(batch, masks=5) \n",
    "    # Removing the maximum value\n",
    "    max_val = np.max(pixel_list)\n",
    "    pixel_list.remove(max_val)\n",
    "    # Calculate average group size\n",
    "    average_size = np.mean(pixel_list)\n",
    "    # Remove values not within 150% of the average\n",
    "    threshold = 1.5  # 150%\n",
    "    pixel_list = [pixel for pixel in pixel_list if pixel >= average_size / threshold \n",
    "                  and pixel <= average_size * threshold or pixel > average_size]\n",
    "    \n",
    "    # Calculating and saving the average except for the maximum value\n",
    "    report_avg = np.mean(pixel_list)\n",
    "    norm_avg = ((17.5/(822*575))*((822*575)/max_val))*report_avg\n",
    "    output = f\"Sample {batch}: {norm_avg}\"\n",
    "    SAVE_AVG(output, output_path)"
   ]
  }
 ],
 "metadata": {
  "kernelspec": {
   "display_name": "Python 3 (ipykernel)",
   "language": "python",
   "name": "python3"
  },
  "language_info": {
   "codemirror_mode": {
    "name": "ipython",
    "version": 3
   },
   "file_extension": ".py",
   "mimetype": "text/x-python",
   "name": "python",
   "nbconvert_exporter": "python",
   "pygments_lexer": "ipython3",
   "version": "3.11.7"
  }
 },
 "nbformat": 4,
 "nbformat_minor": 5
}
