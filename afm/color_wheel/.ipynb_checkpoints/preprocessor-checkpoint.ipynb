{
 "cells": [
  {
   "cell_type": "markdown",
   "metadata": {},
   "source": [
    "# Define our functions"
   ]
  },
  {
   "cell_type": "code",
   "execution_count": 1,
   "metadata": {},
   "outputs": [],
   "source": [
    "import math\n",
    "import matplotlib.pyplot as plt\n",
    "import cv2\n",
    "import numpy as np\n",
    "import scipy.constants as sc\n",
    "from sklearn.cluster import KMeans\n",
    "from skimage import measure\n",
    "import random\n",
    "from collections import deque\n",
    "import os\n",
    "import math\n",
    "import PIL\n",
    "from scipy.fft import fft2, ifft2, fftshift\n",
    "from joblib import Parallel, delayed\n",
    "from PIL import Image\n",
    "from PIL import ImageEnhance\n",
    "from PIL import ImageFilter  \n",
    "from skimage import io\n",
    "from cupy_common import check_cupy_available\n",
    "gpu_accelerated = check_cupy_available()"
   ]
  },
  {
   "cell_type": "code",
   "execution_count": 2,
   "metadata": {},
   "outputs": [],
   "source": [
    "import cv2\n",
    "import os\n",
    "\n",
    "class Preprocess:\n",
    "    def __init__(self, directory, output_directory):\n",
    "        self.global_thresh_value = 350\n",
    "        self.adaptive_thresh_window_size = 25\n",
    "        self.adaptive_thresh_C = 2\n",
    "        self.morph_kernel_size = 2\n",
    "        self.morph_iterations = 1\n",
    "        self.directory = directory\n",
    "        self.output_directory = output_directory\n",
    "\n",
    "    def read_image(self):\n",
    "        self.image_path = f'../../machi/{self.directory}.tiff'\n",
    "        return cv2.imread(self.image_path, cv2.IMREAD_GRAYSCALE)\n",
    "\n",
    "    def global_threshold(self, image):\n",
    "        _, global_thresh_mask = cv2.threshold(image, self.global_thresh_value, 255, cv2.THRESH_BINARY)\n",
    "        return global_thresh_mask\n",
    "\n",
    "    def adaptive_threshold(self, image):\n",
    "        adaptive_mask = cv2.adaptiveThreshold(\n",
    "            image, 255, cv2.ADAPTIVE_THRESH_GAUSSIAN_C, cv2.THRESH_BINARY_INV,\n",
    "            self.adaptive_thresh_window_size, self.adaptive_thresh_C)\n",
    "        return adaptive_mask\n",
    "\n",
    "    def combine_masks(self, global_mask, adaptive_mask):\n",
    "        return cv2.bitwise_or(global_mask, adaptive_mask)\n",
    "\n",
    "    def morphological_operations(self, combined_mask):\n",
    "        kernel = cv2.getStructuringElement(cv2.MORPH_ELLIPSE, (self.morph_kernel_size, self.morph_kernel_size))\n",
    "        return cv2.morphologyEx(combined_mask, cv2.MORPH_OPEN, kernel, iterations=self.morph_iterations)\n",
    "\n",
    "    def save_cleaned_image(self, cleaned_image):\n",
    "        output_path = os.path.join(self.output_directory, f'{self.directory}.tiff')\n",
    "        cv2.imwrite(output_path, cleaned_image)\n",
    "\n",
    "    def process_image(self):\n",
    "        image = self.read_image()\n",
    "        global_mask = self.global_threshold(image)\n",
    "        adaptive_mask = self.adaptive_threshold(image)\n",
    "        combined_mask = self.combine_masks(global_mask, adaptive_mask)\n",
    "        cleaned_image = self.morphological_operations(combined_mask)\n",
    "        self.save_cleaned_image(cleaned_image)\n",
    "        return cleaned_image"
   ]
  },
  {
   "cell_type": "code",
   "execution_count": 9,
   "metadata": {},
   "outputs": [
    {
     "name": "stdout",
     "output_type": "stream",
     "text": [
      "Running on CPU\n"
     ]
    },
    {
     "name": "stderr",
     "output_type": "stream",
     "text": [
      "/home/bradley/anaconda3/lib/python3.10/site-packages/sklearn/cluster/_kmeans.py:870: FutureWarning: The default value of `n_init` will change from 10 to 'auto' in 1.4. Set the value of `n_init` explicitly to suppress the warning\n",
      "  warnings.warn(\n"
     ]
    },
    {
     "name": "stdout",
     "output_type": "stream",
     "text": [
      "50\n"
     ]
    },
    {
     "name": "stderr",
     "output_type": "stream",
     "text": [
      "/home/bradley/anaconda3/lib/python3.10/site-packages/sklearn/cluster/_kmeans.py:870: FutureWarning: The default value of `n_init` will change from 10 to 'auto' in 1.4. Set the value of `n_init` explicitly to suppress the warning\n",
      "  warnings.warn(\n"
     ]
    },
    {
     "name": "stdout",
     "output_type": "stream",
     "text": [
      "75\n"
     ]
    },
    {
     "name": "stderr",
     "output_type": "stream",
     "text": [
      "/home/bradley/anaconda3/lib/python3.10/site-packages/sklearn/cluster/_kmeans.py:870: FutureWarning: The default value of `n_init` will change from 10 to 'auto' in 1.4. Set the value of `n_init` explicitly to suppress the warning\n",
      "  warnings.warn(\n"
     ]
    },
    {
     "name": "stdout",
     "output_type": "stream",
     "text": [
      "100\n"
     ]
    },
    {
     "name": "stderr",
     "output_type": "stream",
     "text": [
      "/home/bradley/anaconda3/lib/python3.10/site-packages/sklearn/cluster/_kmeans.py:870: FutureWarning: The default value of `n_init` will change from 10 to 'auto' in 1.4. Set the value of `n_init` explicitly to suppress the warning\n",
      "  warnings.warn(\n"
     ]
    },
    {
     "name": "stdout",
     "output_type": "stream",
     "text": [
      "125\n"
     ]
    },
    {
     "name": "stderr",
     "output_type": "stream",
     "text": [
      "/home/bradley/anaconda3/lib/python3.10/site-packages/sklearn/cluster/_kmeans.py:870: FutureWarning: The default value of `n_init` will change from 10 to 'auto' in 1.4. Set the value of `n_init` explicitly to suppress the warning\n",
      "  warnings.warn(\n"
     ]
    },
    {
     "name": "stdout",
     "output_type": "stream",
     "text": [
      "150\n"
     ]
    },
    {
     "name": "stderr",
     "output_type": "stream",
     "text": [
      "/home/bradley/anaconda3/lib/python3.10/site-packages/sklearn/cluster/_kmeans.py:870: FutureWarning: The default value of `n_init` will change from 10 to 'auto' in 1.4. Set the value of `n_init` explicitly to suppress the warning\n",
      "  warnings.warn(\n"
     ]
    },
    {
     "name": "stdout",
     "output_type": "stream",
     "text": [
      "175\n"
     ]
    },
    {
     "name": "stderr",
     "output_type": "stream",
     "text": [
      "/home/bradley/anaconda3/lib/python3.10/site-packages/sklearn/cluster/_kmeans.py:870: FutureWarning: The default value of `n_init` will change from 10 to 'auto' in 1.4. Set the value of `n_init` explicitly to suppress the warning\n",
      "  warnings.warn(\n"
     ]
    },
    {
     "name": "stdout",
     "output_type": "stream",
     "text": [
      "200\n"
     ]
    },
    {
     "name": "stderr",
     "output_type": "stream",
     "text": [
      "/home/bradley/anaconda3/lib/python3.10/site-packages/sklearn/cluster/_kmeans.py:870: FutureWarning: The default value of `n_init` will change from 10 to 'auto' in 1.4. Set the value of `n_init` explicitly to suppress the warning\n",
      "  warnings.warn(\n"
     ]
    },
    {
     "name": "stdout",
     "output_type": "stream",
     "text": [
      "225\n"
     ]
    },
    {
     "name": "stderr",
     "output_type": "stream",
     "text": [
      "/home/bradley/anaconda3/lib/python3.10/site-packages/sklearn/cluster/_kmeans.py:870: FutureWarning: The default value of `n_init` will change from 10 to 'auto' in 1.4. Set the value of `n_init` explicitly to suppress the warning\n",
      "  warnings.warn(\n"
     ]
    },
    {
     "name": "stdout",
     "output_type": "stream",
     "text": [
      "250\n"
     ]
    },
    {
     "name": "stderr",
     "output_type": "stream",
     "text": [
      "/home/bradley/anaconda3/lib/python3.10/site-packages/sklearn/cluster/_kmeans.py:870: FutureWarning: The default value of `n_init` will change from 10 to 'auto' in 1.4. Set the value of `n_init` explicitly to suppress the warning\n",
      "  warnings.warn(\n"
     ]
    },
    {
     "name": "stdout",
     "output_type": "stream",
     "text": [
      "275\n"
     ]
    },
    {
     "name": "stderr",
     "output_type": "stream",
     "text": [
      "/home/bradley/anaconda3/lib/python3.10/site-packages/sklearn/cluster/_kmeans.py:870: FutureWarning: The default value of `n_init` will change from 10 to 'auto' in 1.4. Set the value of `n_init` explicitly to suppress the warning\n",
      "  warnings.warn(\n"
     ]
    },
    {
     "name": "stdout",
     "output_type": "stream",
     "text": [
      "300\n"
     ]
    },
    {
     "name": "stderr",
     "output_type": "stream",
     "text": [
      "/home/bradley/anaconda3/lib/python3.10/site-packages/sklearn/cluster/_kmeans.py:870: FutureWarning: The default value of `n_init` will change from 10 to 'auto' in 1.4. Set the value of `n_init` explicitly to suppress the warning\n",
      "  warnings.warn(\n"
     ]
    },
    {
     "name": "stdout",
     "output_type": "stream",
     "text": [
      "325\n"
     ]
    },
    {
     "name": "stderr",
     "output_type": "stream",
     "text": [
      "/home/bradley/anaconda3/lib/python3.10/site-packages/sklearn/cluster/_kmeans.py:870: FutureWarning: The default value of `n_init` will change from 10 to 'auto' in 1.4. Set the value of `n_init` explicitly to suppress the warning\n",
      "  warnings.warn(\n"
     ]
    },
    {
     "name": "stdout",
     "output_type": "stream",
     "text": [
      "350\n"
     ]
    },
    {
     "name": "stderr",
     "output_type": "stream",
     "text": [
      "/home/bradley/anaconda3/lib/python3.10/site-packages/sklearn/cluster/_kmeans.py:870: FutureWarning: The default value of `n_init` will change from 10 to 'auto' in 1.4. Set the value of `n_init` explicitly to suppress the warning\n",
      "  warnings.warn(\n"
     ]
    },
    {
     "name": "stdout",
     "output_type": "stream",
     "text": [
      "375\n"
     ]
    },
    {
     "name": "stderr",
     "output_type": "stream",
     "text": [
      "/home/bradley/anaconda3/lib/python3.10/site-packages/sklearn/cluster/_kmeans.py:870: FutureWarning: The default value of `n_init` will change from 10 to 'auto' in 1.4. Set the value of `n_init` explicitly to suppress the warning\n",
      "  warnings.warn(\n"
     ]
    },
    {
     "name": "stdout",
     "output_type": "stream",
     "text": [
      "400\n"
     ]
    },
    {
     "name": "stderr",
     "output_type": "stream",
     "text": [
      "/home/bradley/anaconda3/lib/python3.10/site-packages/sklearn/cluster/_kmeans.py:870: FutureWarning: The default value of `n_init` will change from 10 to 'auto' in 1.4. Set the value of `n_init` explicitly to suppress the warning\n",
      "  warnings.warn(\n"
     ]
    },
    {
     "name": "stdout",
     "output_type": "stream",
     "text": [
      "425\n"
     ]
    },
    {
     "name": "stderr",
     "output_type": "stream",
     "text": [
      "/home/bradley/anaconda3/lib/python3.10/site-packages/sklearn/cluster/_kmeans.py:870: FutureWarning: The default value of `n_init` will change from 10 to 'auto' in 1.4. Set the value of `n_init` explicitly to suppress the warning\n",
      "  warnings.warn(\n"
     ]
    },
    {
     "name": "stdout",
     "output_type": "stream",
     "text": [
      "450\n"
     ]
    },
    {
     "name": "stderr",
     "output_type": "stream",
     "text": [
      "/home/bradley/anaconda3/lib/python3.10/site-packages/sklearn/cluster/_kmeans.py:870: FutureWarning: The default value of `n_init` will change from 10 to 'auto' in 1.4. Set the value of `n_init` explicitly to suppress the warning\n",
      "  warnings.warn(\n"
     ]
    },
    {
     "name": "stdout",
     "output_type": "stream",
     "text": [
      "475\n"
     ]
    },
    {
     "name": "stderr",
     "output_type": "stream",
     "text": [
      "/home/bradley/anaconda3/lib/python3.10/site-packages/sklearn/cluster/_kmeans.py:870: FutureWarning: The default value of `n_init` will change from 10 to 'auto' in 1.4. Set the value of `n_init` explicitly to suppress the warning\n",
      "  warnings.warn(\n"
     ]
    },
    {
     "name": "stdout",
     "output_type": "stream",
     "text": [
      "500\n"
     ]
    },
    {
     "name": "stderr",
     "output_type": "stream",
     "text": [
      "/home/bradley/anaconda3/lib/python3.10/site-packages/sklearn/cluster/_kmeans.py:870: FutureWarning: The default value of `n_init` will change from 10 to 'auto' in 1.4. Set the value of `n_init` explicitly to suppress the warning\n",
      "  warnings.warn(\n"
     ]
    },
    {
     "name": "stdout",
     "output_type": "stream",
     "text": [
      "525\n"
     ]
    },
    {
     "name": "stderr",
     "output_type": "stream",
     "text": [
      "/home/bradley/anaconda3/lib/python3.10/site-packages/sklearn/cluster/_kmeans.py:870: FutureWarning: The default value of `n_init` will change from 10 to 'auto' in 1.4. Set the value of `n_init` explicitly to suppress the warning\n",
      "  warnings.warn(\n"
     ]
    },
    {
     "name": "stdout",
     "output_type": "stream",
     "text": [
      "550\n"
     ]
    },
    {
     "name": "stderr",
     "output_type": "stream",
     "text": [
      "/home/bradley/anaconda3/lib/python3.10/site-packages/sklearn/cluster/_kmeans.py:870: FutureWarning: The default value of `n_init` will change from 10 to 'auto' in 1.4. Set the value of `n_init` explicitly to suppress the warning\n",
      "  warnings.warn(\n"
     ]
    },
    {
     "name": "stdout",
     "output_type": "stream",
     "text": [
      "575\n"
     ]
    },
    {
     "name": "stderr",
     "output_type": "stream",
     "text": [
      "/home/bradley/anaconda3/lib/python3.10/site-packages/sklearn/cluster/_kmeans.py:870: FutureWarning: The default value of `n_init` will change from 10 to 'auto' in 1.4. Set the value of `n_init` explicitly to suppress the warning\n",
      "  warnings.warn(\n"
     ]
    },
    {
     "name": "stdout",
     "output_type": "stream",
     "text": [
      "Image contains only black pixels.\n",
      "600\n"
     ]
    },
    {
     "name": "stderr",
     "output_type": "stream",
     "text": [
      "/home/bradley/anaconda3/lib/python3.10/site-packages/sklearn/cluster/_kmeans.py:870: FutureWarning: The default value of `n_init` will change from 10 to 'auto' in 1.4. Set the value of `n_init` explicitly to suppress the warning\n",
      "  warnings.warn(\n"
     ]
    },
    {
     "name": "stdout",
     "output_type": "stream",
     "text": [
      "625\n",
      "CPU times: user 4min 17s, sys: 983 ms, total: 4min 18s\n",
      "Wall time: 4min 15s\n"
     ]
    }
   ],
   "source": [
    "%%time\n",
    "\n",
    "# Here we will call our classes and loop through our samples\n",
    "# If you need to change the directory addresses entirely, they are refrenced in cells 2 & 6.\n",
    "\n",
    "if gpu_accelerated:\n",
    "    print(\"Running on GPU\")\n",
    "    cp = __import__(\"cupy\")\n",
    "    gpu_accel=True\n",
    "else:\n",
    "    print(\"Running on CPU\")\n",
    "    gpu_accel=False\n",
    "    cp = __import__(\"numpy\")\n",
    "\n",
    "\n",
    "# Number related to your fist sample\n",
    "sample = 25\n",
    "parent_path = os.getcwd()\n",
    "\n",
    "#Create a loop for all samples\n",
    "for i in range(24):\n",
    "    \n",
    "    # Output path for the cleaned image\n",
    "    directory = f'A_{sample}'\n",
    "    path = os.path.join(parent_path, directory)\n",
    "    os.mkdir(path)\n",
    "    grain_path = os.path.join(path, 'grains')\n",
    "    os.mkdir(grain_path)\n",
    "    \n",
    "    # Create an instance of Preprocess and process the image\n",
    "    binzarize_image = Preprocess(directory)\n",
    "    # Call the instance to run the class\n",
    "    binned_image = binzarize_image.process_image()\n",
    "\n",
    "    sample +=25\n",
    "    print(sample)"
   ]
  },
  {
   "cell_type": "markdown",
   "metadata": {},
   "source": [
    "# Remove dot features from mixed images"
   ]
  },
  {
   "cell_type": "code",
   "execution_count": 22,
   "metadata": {
    "scrolled": true
   },
   "outputs": [
    {
     "name": "stdout",
     "output_type": "stream",
     "text": [
      "Inverted image saved: data_set/X27.png\n",
      "Inverted image saved: data_set/X33.png\n",
      "Inverted image saved: data_set/X32.png\n",
      "Inverted image saved: data_set/X24.png\n",
      "Inverted image saved: data_set/X18.png\n",
      "Inverted image saved: data_set/X9.png\n",
      "Inverted image saved: data_set/X15.png\n",
      "Inverted image saved: data_set/X21.png\n",
      "Inverted image saved: data_set/X26.png\n",
      "Inverted image saved: data_set/X28.png\n",
      "Inverted image saved: data_set/X4.png\n",
      "Inverted image saved: data_set/X40.png\n",
      "Inverted image saved: data_set/X17.png\n",
      "Inverted image saved: data_set/X14.png\n",
      "Inverted image saved: data_set/X3.png\n",
      "Inverted image saved: data_set/X13.png\n",
      "Inverted image saved: data_set/X31.png\n",
      "Inverted image saved: data_set/X5.png\n",
      "Inverted image saved: data_set/X11.png\n",
      "Inverted image saved: data_set/X34.png\n",
      "Inverted image saved: data_set/X37.png\n",
      "Inverted image saved: data_set/X41.png\n",
      "Inverted image saved: data_set/X38.png\n",
      "Inverted image saved: data_set/X7.png\n",
      "Inverted image saved: data_set/X39.png\n",
      "Inverted image saved: data_set/X23.png\n",
      "Inverted image saved: data_set/X22.png\n",
      "Inverted image saved: data_set/X35.png\n",
      "Inverted image saved: data_set/X10.png\n",
      "Inverted image saved: data_set/X16.png\n",
      "Inverted image saved: data_set/X30.png\n",
      "Inverted image saved: data_set/X36.png\n",
      "Inverted image saved: data_set/X8.png\n",
      "Inverted image saved: data_set/X2.png\n",
      "Inverted image saved: data_set/X29.png\n",
      "Inverted image saved: data_set/X20.png\n",
      "Inverted image saved: data_set/X12.png\n",
      "Inverted image saved: data_set/X1.png\n",
      "Inverted image saved: data_set/X19.png\n",
      "Inverted image saved: data_set/X25.png\n",
      "Inverted image saved: data_set/X6.png\n"
     ]
    }
   ],
   "source": [
    "import glob\n",
    "import os\n",
    "def invert_binary_image(image_path, output_path):\n",
    "    \"\"\"Inverts the white and black pixels in a binary image.\"\"\"\n",
    "    # Read the image in grayscale\n",
    "    image = cv2.imread(image_path, cv2.IMREAD_GRAYSCALE)\n",
    "    if image is None:\n",
    "        raise FileNotFoundError(f\"Image file not found: {image_path}\")\n",
    "    \n",
    "    # Ensure the image is binary\n",
    "    _, binary = cv2.threshold(image, 127, 255, cv2.THRESH_BINARY)\n",
    "    \n",
    "    # Invert the image\n",
    "    inverted = cv2.bitwise_not(binary)\n",
    "    \n",
    "    # Save the inverted image\n",
    "    cv2.imwrite(output_path, inverted)\n",
    "    print(f\"Inverted image saved: {output_path}\")\n",
    "\n",
    "input_folder = 'data_set/'\n",
    "# List of desired extensions\n",
    "# extensions = [\"*.tiff\", \"*.png\"]\n",
    "\n",
    "extensions = [\"X*\"]\n",
    "# Find all files with matching extensions\n",
    "image_files = [f for ext in extensions for f in glob.glob(os.path.join(input_folder, ext))]\n",
    "\n",
    "for image_file in image_files:\n",
    "    invert_binary_image(image_file, image_file)"
   ]
  },
  {
   "cell_type": "code",
   "execution_count": 4,
   "metadata": {},
   "outputs": [
    {
     "name": "stdout",
     "output_type": "stream",
     "text": [
      "Filtered image saved as mixed_lines/A_25.tiff\n"
     ]
    }
   ],
   "source": [
    "import cv2\n",
    "import numpy as np\n",
    "from scipy.ndimage import label\n",
    "\n",
    "def remove_small_clusters(image_path, output_path, min_size=1000):\n",
    "    # Load binary image\n",
    "    image = cv2.imread(image_path, cv2.IMREAD_GRAYSCALE)\n",
    "    if image is None:\n",
    "        print(\"Error: Image not found or cannot be loaded.\")\n",
    "        return\n",
    "    \n",
    "    # Ensure binary (0 or 255)\n",
    "    _, binary = cv2.threshold(image, 127, 255, cv2.THRESH_BINARY)\n",
    "    \n",
    "    # Label connected components\n",
    "    structure = np.ones((3, 3), dtype=int)  # 8-connectivity\n",
    "    labeled, num_features = label(binary, structure)\n",
    "    \n",
    "    # Create an output mask\n",
    "    filtered = np.zeros_like(binary)\n",
    "    \n",
    "    for i in range(1, num_features + 1):\n",
    "        component = (labeled == i)\n",
    "        if np.sum(component) >= min_size:\n",
    "            filtered[component] = 255\n",
    "    \n",
    "    # Save the filtered image\n",
    "    cv2.imwrite(output_path, filtered)\n",
    "    print(f\"Filtered image saved as {output_path}\")\n",
    "\n",
    "# Example usage:\n",
    "remove_small_clusters(image_path='data_set/A_25.tiff', output_path='mixed_lines/A_25.tiff', min_size=500)"
   ]
  },
  {
   "cell_type": "code",
   "execution_count": 23,
   "metadata": {},
   "outputs": [],
   "source": [
    "import cv2\n",
    "import numpy as np\n",
    "from scipy.ndimage import label\n",
    "\n",
    "def remove_small_clusters(binary_image, threshold):\n",
    "    # Label connected components\n",
    "    labeled_array, num_features = label(binary_image)\n",
    "    \n",
    "    # Create an output image initialized to white (255)\n",
    "    output_image = np.ones_like(binary_image) * 255\n",
    "    \n",
    "    # Iterate over detected components\n",
    "    for i in range(1, num_features + 1):\n",
    "        # Find pixels belonging to the component\n",
    "        component_mask = (labeled_array == i)\n",
    "        \n",
    "        # Remove small clusters\n",
    "        if np.sum(component_mask) >= threshold:\n",
    "            output_image[component_mask] = 0\n",
    "    \n",
    "    return output_image\n",
    "\n",
    "def main():\n",
    "\n",
    "    samples = ['X2', 'X3', 'X4', 'X25', 'X26', 'X27', 'X28', 'X41']\n",
    "    for sample in samples:\n",
    "        # Load the binary image (0 and 255 values)\n",
    "        image = cv2.imread(f'data_set/{sample}.png', cv2.IMREAD_GRAYSCALE)\n",
    "        \n",
    "        # Convert to binary (ensuring strict 0 and 255 values)\n",
    "        _, binary_image = cv2.threshold(image, 127, 255, cv2.THRESH_BINARY_INV)\n",
    "        \n",
    "        # for i in np.arange(50, 150, 5):\n",
    "        # Set cluster size threshold\n",
    "        threshold = 110  # Adjust as needed\n",
    "        \n",
    "        # Process the image\n",
    "        filtered_image = remove_small_clusters(binary_image, threshold)\n",
    "        \n",
    "        # Save and display the output\n",
    "        cv2.imwrite(f\"mixed_lines/{sample}.png\", filtered_image)\n",
    "        # cv2.imshow(\"Filtered Image\", filtered_image)\n",
    "        # cv2.waitKey(0)\n",
    "        # cv2.destroyAllWindows()\n",
    "\n",
    "if __name__ == \"__main__\":\n",
    "    main()\n"
   ]
  }
 ],
 "metadata": {
  "interpreter": {
   "hash": "413c671aa7e40cc462263a6fa671beb89a62c72ca4392857d47c9c7364deff4f"
  },
  "kernelspec": {
   "display_name": "Python 3 (ipykernel)",
   "language": "python",
   "name": "python3"
  },
  "language_info": {
   "codemirror_mode": {
    "name": "ipython",
    "version": 3
   },
   "file_extension": ".py",
   "mimetype": "text/x-python",
   "name": "python",
   "nbconvert_exporter": "python",
   "pygments_lexer": "ipython3",
   "version": "3.11.7"
  }
 },
 "nbformat": 4,
 "nbformat_minor": 4
}
