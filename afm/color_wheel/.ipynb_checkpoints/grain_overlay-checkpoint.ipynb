{
 "cells": [
  {
   "cell_type": "code",
   "execution_count": 6,
   "id": "c51de856-854c-4807-95f0-3c8a896438fd",
   "metadata": {},
   "outputs": [
    {
     "name": "stdout",
     "output_type": "stream",
     "text": [
      "Composite image saved at ./supra_25/grains/grains/composite_image_25.png\n",
      "Composite image saved at ./supra_50/grains/grains/composite_image_50.png\n",
      "Composite image saved at ./supra_75/grains/grains/composite_image_75.png\n",
      "Composite image saved at ./supra_100/grains/grains/composite_image_100.png\n"
     ]
    }
   ],
   "source": [
    "from PIL import Image\n",
    "import os\n",
    "\n",
    "def is_non_black(pixel):\n",
    "    \"\"\"Check if a pixel is non-black. Assumes pixel is an (R, G, B) tuple.\"\"\"\n",
    "    return pixel != (0, 0, 0)\n",
    "\n",
    "def composite_images(image_paths):\n",
    "    \"\"\"Create a composite image by copying non-black pixels from each image.\"\"\"\n",
    "    # Open all images\n",
    "    images = [Image.open(path).convert('RGB') for path in image_paths]\n",
    "    \n",
    "    # Ensure all images have the same size\n",
    "    width, height = images[0].size\n",
    "    \n",
    "    # Create a new blank (black) image with the same dimensions\n",
    "    composite = Image.new('RGB', (width, height), (0, 0, 0))\n",
    "    \n",
    "    # Loop through each pixel and apply the non-black rule\n",
    "    for img in images:\n",
    "        for x in range(width):\n",
    "            for y in range(height):\n",
    "                pixel = img.getpixel((x, y))\n",
    "                if is_non_black(pixel):\n",
    "                    composite.putpixel((x, y), pixel)\n",
    "    \n",
    "    return composite\n",
    "\n",
    "# Number related to your first sample\n",
    "sample = 25\n",
    "# image_names = ['Mask_0.tiff', 'Mask_1.tiff', 'Mask_3.tiff']\n",
    "image_names = ['Mask_0.tiff', 'Mask_2.tiff', 'Mask_3.tiff']\n",
    "\n",
    "# Create a loop for all samples\n",
    "for i in range(4):\n",
    "    # Update directory path with sample number\n",
    "    directory = f'./supra_{sample}/grains/'\n",
    "    \n",
    "    # Create output directories\n",
    "    os.makedirs(directory, exist_ok=True)\n",
    "    grain_path = os.path.join(directory, 'grains')\n",
    "    os.makedirs(grain_path, exist_ok=True)\n",
    "    \n",
    "    # Create a new list by joining 'directory' with each of the image_names\n",
    "    image_paths = [os.path.join(directory, image_name) for image_name in image_names]\n",
    "    \n",
    "    # Create the composite image\n",
    "    composite = composite_images(image_paths)\n",
    "    \n",
    "    # Save the composite image in the grain directory\n",
    "    composite_image_path = os.path.join(grain_path, f'composite_image_{sample}.png')\n",
    "    composite.save(composite_image_path)\n",
    "    print(f\"Composite image saved at {composite_image_path}\")\n",
    "    \n",
    "    # Increment sample number\n",
    "    sample += 25\n"
   ]
  }
 ],
 "metadata": {
  "kernelspec": {
   "display_name": "Python 3 (ipykernel)",
   "language": "python",
   "name": "python3"
  },
  "language_info": {
   "codemirror_mode": {
    "name": "ipython",
    "version": 3
   },
   "file_extension": ".py",
   "mimetype": "text/x-python",
   "name": "python",
   "nbconvert_exporter": "python",
   "pygments_lexer": "ipython3",
   "version": "3.11.7"
  }
 },
 "nbformat": 4,
 "nbformat_minor": 5
}
