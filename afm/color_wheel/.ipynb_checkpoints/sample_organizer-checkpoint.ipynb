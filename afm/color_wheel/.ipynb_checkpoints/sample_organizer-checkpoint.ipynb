{
 "cells": [
  {
   "cell_type": "code",
   "execution_count": 2,
   "id": "b95cf7c8-378f-4672-8e17-352846a32732",
   "metadata": {},
   "outputs": [
    {
     "name": "stdout",
     "output_type": "stream",
     "text": [
      "Sorted file saved as: mixed_real_space_grain_area_sorted.txt\n"
     ]
    }
   ],
   "source": [
    "import re\n",
    "\n",
    "def parse_sample_name(sample_name):\n",
    "    match = re.match(r\"([A-Za-z]+)_?(\\d*)\", sample_name)\n",
    "    if match:\n",
    "        letter_part = match.group(1)\n",
    "        number_part = int(match.group(2)) if match.group(2) else float('-inf')  # Handle non-numeric cases\n",
    "        return (letter_part, number_part)\n",
    "    return (sample_name, float('-inf'))\n",
    "\n",
    "def sort_samples(file_path):\n",
    "    with open(file_path, 'r') as file:\n",
    "        lines = file.readlines()\n",
    "    \n",
    "    samples = []\n",
    "    for line in lines:\n",
    "        sample_name, value = line.strip().split(\": \")\n",
    "        samples.append((sample_name, float(value.split()[0])))\n",
    "    \n",
    "    samples.sort(key=lambda x: parse_sample_name(x[0]))\n",
    "    \n",
    "    sorted_file_path = file_path.replace(\".txt\", \"_sorted.txt\")\n",
    "    with open(sorted_file_path, 'w') as file:\n",
    "        for sample, value in samples:\n",
    "            file.write(f\"{sample}: {value} pixels\\n\")\n",
    "    \n",
    "    print(f\"Sorted file saved as: {sorted_file_path}\")\n",
    "\n",
    "# Example usage\n",
    "sort_samples(\"mixed_real_space_grain_area.txt\")\n"
   ]
  }
 ],
 "metadata": {
  "kernelspec": {
   "display_name": "Python 3 (ipykernel)",
   "language": "python",
   "name": "python3"
  },
  "language_info": {
   "codemirror_mode": {
    "name": "ipython",
    "version": 3
   },
   "file_extension": ".py",
   "mimetype": "text/x-python",
   "name": "python",
   "nbconvert_exporter": "python",
   "pygments_lexer": "ipython3",
   "version": "3.11.7"
  }
 },
 "nbformat": 4,
 "nbformat_minor": 5
}
