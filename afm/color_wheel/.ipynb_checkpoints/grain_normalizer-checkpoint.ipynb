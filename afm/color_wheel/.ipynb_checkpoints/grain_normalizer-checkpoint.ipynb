{
 "cells": [
  {
   "cell_type": "code",
   "execution_count": 2,
   "id": "9147de64-09cf-4ce5-828f-5b7766eb0a19",
   "metadata": {},
   "outputs": [],
   "source": [
    "# Read area values from 'grain_size_summary.txt'\n",
    "grain_areas = {}\n",
    "with open('grain_size_summary_lines.txt', 'r') as f:\n",
    "    for line in f:\n",
    "        parts = line.split(':')\n",
    "        if len(parts) == 2:\n",
    "            sample = parts[0].strip()\n",
    "            value = float(parts[1].split()[0])  # Extract numerical value\n",
    "            grain_areas[sample] = value\n",
    "\n",
    "# Read scaling ratios from 'grain_area.txt'\n",
    "scaling_ratios = {}\n",
    "with open('line_area.txt', 'r') as f:\n",
    "    for line in f:\n",
    "        parts = line.split('phase ratio:')\n",
    "        if len(parts) == 2:\n",
    "            sample = parts[0].replace('Sample', '').strip()\n",
    "            ratio = float(parts[1].strip())\n",
    "            scaling_ratios[sample] = ratio\n",
    "\n",
    "# Compute scaled values and write to output file\n",
    "with open('scaled_grain_area.txt', 'w') as f:\n",
    "    for sample, area in grain_areas.items():\n",
    "        if sample in scaling_ratios:\n",
    "            scaled_value = area * scaling_ratios[sample]\n",
    "            f.write(f\"{sample}: {scaled_value:.2f} pixels\\n\")\n"
   ]
  }
 ],
 "metadata": {
  "kernelspec": {
   "display_name": "Python 3 (ipykernel)",
   "language": "python",
   "name": "python3"
  },
  "language_info": {
   "codemirror_mode": {
    "name": "ipython",
    "version": 3
   },
   "file_extension": ".py",
   "mimetype": "text/x-python",
   "name": "python",
   "nbconvert_exporter": "python",
   "pygments_lexer": "ipython3",
   "version": "3.11.7"
  }
 },
 "nbformat": 4,
 "nbformat_minor": 5
}
