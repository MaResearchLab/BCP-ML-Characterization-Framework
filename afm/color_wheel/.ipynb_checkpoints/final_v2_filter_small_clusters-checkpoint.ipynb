{
 "cells": [
  {
   "cell_type": "markdown",
   "metadata": {},
   "source": [
    "# Define our functions"
   ]
  },
  {
   "cell_type": "code",
   "execution_count": 1,
   "metadata": {},
   "outputs": [],
   "source": [
    "import math\n",
    "import matplotlib.pyplot as plt\n",
    "import cv2\n",
    "import numpy as np\n",
    "import scipy.constants as sc\n",
    "from sklearn.cluster import KMeans\n",
    "from skimage import measure\n",
    "import random\n",
    "from collections import deque\n",
    "import os\n",
    "import math\n",
    "import PIL\n",
    "from scipy.fft import fft2, ifft2, fftshift\n",
    "from joblib import Parallel, delayed\n",
    "from PIL import Image\n",
    "from PIL import ImageEnhance\n",
    "from PIL import ImageFilter  \n",
    "from skimage import io\n",
    "from cupy_common import check_cupy_available\n",
    "gpu_accelerated = check_cupy_available()"
   ]
  },
  {
   "cell_type": "code",
   "execution_count": 2,
   "metadata": {},
   "outputs": [],
   "source": [
    "# Inputs the raw AFM image, binarizes the image and outputs the binarized image\n",
    "class Preprocess:\n",
    "    def __init__(self, directory):\n",
    "        self.global_thresh_value = 350\n",
    "        self.adaptive_thresh_window_size = 25\n",
    "        self.adaptive_thresh_C = 2\n",
    "        self.morph_kernel_size = 2\n",
    "        self.morph_iterations = 1\n",
    "        self.directory = directory\n",
    "\n",
    "    def read_image(self):\n",
    "        self.image_path = f'/home/bradley/Desktop/DOE/color_wheel/data/A_80_20/{directory}.tiff'\n",
    "        return cv2.imread(self.image_path, cv2.IMREAD_GRAYSCALE)\n",
    "\n",
    "    def global_threshold(self, image):\n",
    "        _, global_thresh_mask = cv2.threshold(image, self.global_thresh_value, 255, cv2.THRESH_BINARY)\n",
    "        return global_thresh_mask\n",
    "\n",
    "    def adaptive_threshold(self, image):\n",
    "        adaptive_mask = cv2.adaptiveThreshold(\n",
    "            image, 255, cv2.ADAPTIVE_THRESH_GAUSSIAN_C, cv2.THRESH_BINARY_INV,\n",
    "            self.adaptive_thresh_window_size, self.adaptive_thresh_C)\n",
    "        return adaptive_mask\n",
    "\n",
    "    def combine_masks(self, global_mask, adaptive_mask):\n",
    "        return cv2.bitwise_or(global_mask, adaptive_mask)\n",
    "\n",
    "    def morphological_operations(self, combined_mask):\n",
    "        kernel = cv2.getStructuringElement(cv2.MORPH_ELLIPSE, (self.morph_kernel_size, self.morph_kernel_size))\n",
    "        return cv2.morphologyEx(combined_mask, cv2.MORPH_OPEN, kernel, iterations=self.morph_iterations)\n",
    "\n",
    "    def save_cleaned_image(self, cleaned_image):\n",
    "        cv2.imwrite(self.output_path, cleaned_image)\n",
    "\n",
    "    def process_image(self):\n",
    "        image = self.read_image()\n",
    "        global_mask = self.global_threshold(image)\n",
    "        adaptive_mask = self.adaptive_threshold(image)\n",
    "        combined_mask = self.combine_masks(global_mask, adaptive_mask)\n",
    "        cleaned_image = self.morphological_operations(combined_mask)\n",
    "        \n",
    "        return cleaned_image"
   ]
  },
  {
   "cell_type": "code",
   "execution_count": 3,
   "metadata": {},
   "outputs": [],
   "source": [
    "# Inputs the binarize AFM image, applies the color wheel the image and outputs the binarized image\n",
    "class ColorWheelProcessor:\n",
    "    def __init__(self, binarized_image, gpu_accelerated):\n",
    "        self.binarized_image = binarized_image\n",
    "        self.sym = 2\n",
    "        self.color = 5\n",
    "        self.brightness = 1\n",
    "        self.contrast = 5\n",
    "        self.gpu_accelerated = gpu_accelerated\n",
    "\n",
    "    def process_image(self):\n",
    "        data = np.array(self.binarized_image)\n",
    "        clrwhl = self._bldclrwhl(data.shape[0], data.shape[1], self.sym)\n",
    "        imnp = self._nofft(clrwhl, data, data.shape[1], data.shape[1])\n",
    "        imnp = imnp - np.min(imnp)\n",
    "        imnp = imnp / np.max(imnp) * 255\n",
    "        rgb2 = Image.fromarray(np.uint8(imnp))\n",
    "        img2 = rgb2.filter(ImageFilter.GaussianBlur(radius=0.5))\n",
    "        converter = ImageEnhance.Color(img2)\n",
    "        img2 = converter.enhance(self.color)\n",
    "        converter = ImageEnhance.Brightness(img2)\n",
    "        img2 = converter.enhance(self.brightness)\n",
    "        converter = ImageEnhance.Contrast(img2)\n",
    "        img2 = converter.enhance(self.contrast)\n",
    "        return img2\n",
    "\n",
    "    def _bldclrwhl(self, nx, ny, sym):\n",
    "        cda = cp.ones((nx, ny, 2))\n",
    "        cx = cp.linspace(-nx, nx, nx)\n",
    "        cy = cp.linspace(-ny, ny, ny)\n",
    "        cxx, cyy = cp.meshgrid(cy, cx)\n",
    "        czz = (((cp.arctan2(cxx, cyy) / math.pi) + 1.0) / 2.0) * sym\n",
    "        cd2 = cp.dstack((czz, cda))\n",
    "        carr = cd2\n",
    "        chi = cp.floor(carr[..., 0] * 6)\n",
    "        f = carr[..., 0] * 6 - chi\n",
    "        p = carr[..., 2] * (1 - carr[..., 1])\n",
    "        q = carr[..., 2] * (1 - f * carr[..., 1])\n",
    "        t = carr[..., 2] * (1 - (1 - f) * carr[..., 1])\n",
    "        v = carr[..., 2]\n",
    "        chi = cp.stack([chi, chi, chi], axis=-1).astype(cp.uint8) % 6\n",
    "        out = cp.choose(\n",
    "            chi, cp.stack([cp.stack((v, t, p), axis=-1),\n",
    "                           cp.stack((q, v, p), axis=-1),\n",
    "                           cp.stack((p, v, t), axis=-1),\n",
    "                           cp.stack((p, q, v), axis=-1),\n",
    "                           cp.stack((t, p, v), axis=-1),\n",
    "                           cp.stack((v, p, q), axis=-1)]))\n",
    "        if self.gpu_accelerated:\n",
    "            return cp.asnumpy(out)\n",
    "        else:\n",
    "            return out\n",
    "\n",
    "    def _nofft(self, whl, img, nx, ny):\n",
    "        imnp = cp.array(img)\n",
    "        fimg = cp.fft.fft2(imnp)\n",
    "        whl = cp.fft.fftshift(whl)\n",
    "        proimg = cp.zeros((nx, ny, 3))\n",
    "        comb = cp.zeros((nx, ny, 3), dtype=complex)\n",
    "        magnitude = cp.repeat(np.abs(fimg)[:, :, np.newaxis], 3, axis=2)\n",
    "        phase = cp.repeat(np.angle(fimg)[:, :, np.newaxis], 3, axis=2)\n",
    "        proimg = whl * magnitude\n",
    "        comb = cp.multiply(proimg, cp.exp(1j * phase))\n",
    "        for n in range(3):\n",
    "            proimg[:, :, n] = cp.real(cp.fft.ifft2(comb[:, :, n]))\n",
    "            proimg[:, :, n] = proimg[:, :, n] - cp.min(proimg[:, :, n])\n",
    "            proimg[:, :, n] = proimg[:, :, n] / cp.max(proimg[:, :, n])\n",
    "\n",
    "        if self.gpu_accelerated:\n",
    "            return cp.asnumpy(proimg)\n",
    "        else:\n",
    "            return proimg"
   ]
  },
  {
   "cell_type": "code",
   "execution_count": 4,
   "metadata": {},
   "outputs": [],
   "source": [
    "# Inputs the color wheel image, subtracts the binarized image from it resulting in a colored, one phase image\n",
    "class PhaseSubtraction:\n",
    "    def __init__(self, input_image, binarized_image):\n",
    "        self.input_image = input_image\n",
    "        self.binarized_image = binarized_image\n",
    "\n",
    "    def subtract_black_from_input(self):\n",
    "        # Convert images to NumPy arrays\n",
    "        input_array = np.array(self.input_image)\n",
    "        binned_array = np.array(self.binarized_image)\n",
    "\n",
    "        # Ensure the mask has the same number of channels as the input image\n",
    "        if len(binned_array.shape) == 2:\n",
    "            binned_array = np.expand_dims(binned_array, axis=-1)\n",
    "\n",
    "        # Subtract black parts of the mask from the input image\n",
    "        result_array = np.where(binned_array == 0, input_array, 255)\n",
    "\n",
    "        # Create a PIL Image from the result array\n",
    "        result_image = Image.fromarray(result_array.astype(np.uint8))\n",
    "        return result_image"
   ]
  },
  {
   "cell_type": "code",
   "execution_count": 5,
   "metadata": {},
   "outputs": [],
   "source": [
    "# Inputs the one phase image, creates masks for each orientation, outputs the filtered masks\n",
    "class ColorMaskProcessor:\n",
    "    def __init__(self, input_image, output_path):\n",
    "        self.input_image = input_image\n",
    "        self.output_path = output_path\n",
    "\n",
    "    def create_color_mask(self, num_clusters):\n",
    "        # Convert the image to a NumPy array\n",
    "        img_array = np.array(self.input_image)\n",
    "\n",
    "        # Reshape the array to a list of RGB values\n",
    "        reshaped_array = img_array.reshape((-1, 3))\n",
    "\n",
    "        # Use k-means clustering to group similar colors\n",
    "        kmeans = KMeans(n_clusters=num_clusters, random_state=42)\n",
    "        kmeans.fit(reshaped_array)\n",
    "\n",
    "        # Get the labels assigned to each pixel\n",
    "        labels = kmeans.labels_\n",
    "\n",
    "        # Reshape the labels back to the original image shape\n",
    "        segmented_image = labels.reshape(img_array.shape[:2])\n",
    "\n",
    "        # Create a mask for each cluster\n",
    "        masks = [(segmented_image == i) for i in range(num_clusters)]\n",
    "\n",
    "        return masks\n",
    "\n",
    "    def save_masks_as_images(self, image, masks):\n",
    "        # Save each mask as a separate image to the current sample folder\n",
    "        for i, mask in enumerate(masks):\n",
    "            color_mask = np.zeros_like(image)\n",
    "            color_mask[mask] = image[mask]\n",
    "            mask_image = Image.fromarray(color_mask)\n",
    "            #mask_image.save(os.path.join(self.output_path, f\"mask_{i}.tiff\"))\n",
    "            \n",
    "            # Identify non-black pixels\n",
    "            mask_array = np.array(mask_image)\n",
    "            non_black_pixels = (mask_array[:, :, :3] > 0).any(axis=2)\n",
    "\n",
    "            # Remove small clusters\n",
    "            non_black_pixels = self.remove_small_clusters(non_black_pixels, min_size=15)\n",
    "\n",
    "            # Create a new image with the modified non-black pixels\n",
    "            result_img_array = np.zeros_like(mask_array)\n",
    "            result_img_array[non_black_pixels] = mask_array[non_black_pixels]\n",
    "            \n",
    "            result_img = Image.fromarray(result_img_array, self.input_image.mode)\n",
    "            result_img.save(os.path.join(self.output_path, f\"filtered_mask_{i}.tiff\"))\n",
    "\n",
    "\n",
    "    def remove_small_clusters(self, image, min_size):\n",
    "        labeled_image, num_labels = measure.label(image, connectivity=2, return_num=True)\n",
    "        for label in range(1, num_labels + 1):\n",
    "            cluster_size = np.sum(labeled_image == label)\n",
    "            if cluster_size < min_size:\n",
    "                image[labeled_image == label] = 0  # Set pixels in the small cluster to black\n",
    "        return image\n",
    "\n",
    "    def process_image(self):\n",
    "        # Create color masks\n",
    "        masks = self.create_color_mask(num_clusters=5)\n",
    "\n",
    "        # Save each mask as a separate image\n",
    "        image = self.input_image\n",
    "        self.save_masks_as_images(np.array(image), masks)"
   ]
  },
  {
   "cell_type": "code",
   "execution_count": 6,
   "metadata": {},
   "outputs": [],
   "source": [
    "class GrainFinder:\n",
    "    def __init__(self, mask, directory):\n",
    "        self.mask = mask\n",
    "        self.directory = directory\n",
    "        self.image = Image.open(f'/home/bradley/Desktop/DOE/color_wheel/{self.directory}/filtered_mask_{self.mask}.tiff')\n",
    "        self.pixels = self.image.load()\n",
    "        self.output_path = f'/home/bradley/Desktop/DOE/color_wheel/{self.directory}/grains/Mask_{self.mask}.tiff'\n",
    "        self.grouped = set()\n",
    "        self.group_id = 1\n",
    "        self.group_sizes = {}\n",
    "\n",
    "    def group_pixels(self, x, y):\n",
    "        queue = deque([(x, y)])\n",
    "        current_group_size = 0\n",
    "\n",
    "        while queue:\n",
    "            current_x, current_y = queue.popleft()\n",
    "\n",
    "            if (\n",
    "                current_x < 0\n",
    "                or current_y < 0\n",
    "                or current_x >= self.image.width\n",
    "                or current_y >= self.image.height\n",
    "            ):\n",
    "                continue\n",
    "\n",
    "            pixel = self.image.getpixel((current_x, current_y))\n",
    "            if pixel == (0, 0, 0) or (current_x, current_y) in self.grouped:\n",
    "                continue\n",
    "\n",
    "            self.grouped.add((current_x, current_y))\n",
    "            self.image.putpixel((current_x, current_y), self.group_id)\n",
    "\n",
    "            current_group_size += 1\n",
    "\n",
    "            for i in range(-8, 8):\n",
    "                for j in range(-8, 8):\n",
    "                    queue.append((current_x + i, current_y + j))\n",
    "\n",
    "        self.group_sizes[self.group_id] = current_group_size\n",
    "        self.group_id += 1\n",
    "\n",
    "    def process_image(self):\n",
    "        for x in range(self.image.width):\n",
    "            for y in range(self.image.height):\n",
    "                pixel = self.pixels[x, y]\n",
    "                if pixel != (0, 0, 0) and (x, y) not in self.grouped:\n",
    "                    self.group_pixels(x, y)\n",
    "\n",
    "        colors = [(random.randint(0, 255), random.randint(0, 255), random.randint(0, 255)) for _ in range(self.group_id)]\n",
    "\n",
    "        for x in range(self.image.width):\n",
    "            for y in range(self.image.height):\n",
    "                pixel = self.image.getpixel((x, y))\n",
    "                if pixel != (0, 0, 0):\n",
    "                    group_id = pixel[0]  # Use the red channel as the group ID\n",
    "                    self.image.putpixel((x, y), colors[group_id])\n",
    "\n",
    "        self.image.save(self.output_path)\n",
    "\n",
    "# Save the number of pixels in each group to a text document\n",
    "        with open(f'/home/bradley/Desktop/DOE/color_wheel/{self.directory}/grains/grains_{self.mask}.txt', \"w\") as file:\n",
    "            for group_id, size in self.group_sizes.items():\n",
    "                file.write(f\"Group {group_id}: {size} pixels\\n\")"
   ]
  },
  {
   "cell_type": "code",
   "execution_count": 7,
   "metadata": {},
   "outputs": [
    {
     "name": "stdout",
     "output_type": "stream",
     "text": [
      "Running on CPU\n"
     ]
    },
    {
     "name": "stderr",
     "output_type": "stream",
     "text": [
      "/home/bradley/anaconda3/lib/python3.10/site-packages/sklearn/cluster/_kmeans.py:870: FutureWarning: The default value of `n_init` will change from 10 to 'auto' in 1.4. Set the value of `n_init` explicitly to suppress the warning\n",
      "  warnings.warn(\n"
     ]
    },
    {
     "name": "stdout",
     "output_type": "stream",
     "text": [
      "50\n"
     ]
    },
    {
     "name": "stderr",
     "output_type": "stream",
     "text": [
      "/home/bradley/anaconda3/lib/python3.10/site-packages/sklearn/cluster/_kmeans.py:870: FutureWarning: The default value of `n_init` will change from 10 to 'auto' in 1.4. Set the value of `n_init` explicitly to suppress the warning\n",
      "  warnings.warn(\n"
     ]
    },
    {
     "name": "stdout",
     "output_type": "stream",
     "text": [
      "75\n"
     ]
    },
    {
     "name": "stderr",
     "output_type": "stream",
     "text": [
      "/home/bradley/anaconda3/lib/python3.10/site-packages/sklearn/cluster/_kmeans.py:870: FutureWarning: The default value of `n_init` will change from 10 to 'auto' in 1.4. Set the value of `n_init` explicitly to suppress the warning\n",
      "  warnings.warn(\n"
     ]
    },
    {
     "name": "stdout",
     "output_type": "stream",
     "text": [
      "100\n"
     ]
    },
    {
     "name": "stderr",
     "output_type": "stream",
     "text": [
      "/home/bradley/anaconda3/lib/python3.10/site-packages/sklearn/cluster/_kmeans.py:870: FutureWarning: The default value of `n_init` will change from 10 to 'auto' in 1.4. Set the value of `n_init` explicitly to suppress the warning\n",
      "  warnings.warn(\n"
     ]
    },
    {
     "name": "stdout",
     "output_type": "stream",
     "text": [
      "125\n"
     ]
    },
    {
     "name": "stderr",
     "output_type": "stream",
     "text": [
      "/home/bradley/anaconda3/lib/python3.10/site-packages/sklearn/cluster/_kmeans.py:870: FutureWarning: The default value of `n_init` will change from 10 to 'auto' in 1.4. Set the value of `n_init` explicitly to suppress the warning\n",
      "  warnings.warn(\n"
     ]
    },
    {
     "name": "stdout",
     "output_type": "stream",
     "text": [
      "150\n"
     ]
    },
    {
     "name": "stderr",
     "output_type": "stream",
     "text": [
      "/home/bradley/anaconda3/lib/python3.10/site-packages/sklearn/cluster/_kmeans.py:870: FutureWarning: The default value of `n_init` will change from 10 to 'auto' in 1.4. Set the value of `n_init` explicitly to suppress the warning\n",
      "  warnings.warn(\n"
     ]
    },
    {
     "name": "stdout",
     "output_type": "stream",
     "text": [
      "175\n"
     ]
    },
    {
     "name": "stderr",
     "output_type": "stream",
     "text": [
      "/home/bradley/anaconda3/lib/python3.10/site-packages/sklearn/cluster/_kmeans.py:870: FutureWarning: The default value of `n_init` will change from 10 to 'auto' in 1.4. Set the value of `n_init` explicitly to suppress the warning\n",
      "  warnings.warn(\n"
     ]
    },
    {
     "name": "stdout",
     "output_type": "stream",
     "text": [
      "200\n"
     ]
    },
    {
     "name": "stderr",
     "output_type": "stream",
     "text": [
      "/home/bradley/anaconda3/lib/python3.10/site-packages/sklearn/cluster/_kmeans.py:870: FutureWarning: The default value of `n_init` will change from 10 to 'auto' in 1.4. Set the value of `n_init` explicitly to suppress the warning\n",
      "  warnings.warn(\n"
     ]
    },
    {
     "name": "stdout",
     "output_type": "stream",
     "text": [
      "225\n"
     ]
    },
    {
     "name": "stderr",
     "output_type": "stream",
     "text": [
      "/home/bradley/anaconda3/lib/python3.10/site-packages/sklearn/cluster/_kmeans.py:870: FutureWarning: The default value of `n_init` will change from 10 to 'auto' in 1.4. Set the value of `n_init` explicitly to suppress the warning\n",
      "  warnings.warn(\n"
     ]
    },
    {
     "name": "stdout",
     "output_type": "stream",
     "text": [
      "250\n"
     ]
    },
    {
     "name": "stderr",
     "output_type": "stream",
     "text": [
      "/home/bradley/anaconda3/lib/python3.10/site-packages/sklearn/cluster/_kmeans.py:870: FutureWarning: The default value of `n_init` will change from 10 to 'auto' in 1.4. Set the value of `n_init` explicitly to suppress the warning\n",
      "  warnings.warn(\n"
     ]
    },
    {
     "name": "stdout",
     "output_type": "stream",
     "text": [
      "275\n"
     ]
    },
    {
     "name": "stderr",
     "output_type": "stream",
     "text": [
      "/home/bradley/anaconda3/lib/python3.10/site-packages/sklearn/cluster/_kmeans.py:870: FutureWarning: The default value of `n_init` will change from 10 to 'auto' in 1.4. Set the value of `n_init` explicitly to suppress the warning\n",
      "  warnings.warn(\n"
     ]
    },
    {
     "name": "stdout",
     "output_type": "stream",
     "text": [
      "300\n"
     ]
    },
    {
     "name": "stderr",
     "output_type": "stream",
     "text": [
      "/home/bradley/anaconda3/lib/python3.10/site-packages/sklearn/cluster/_kmeans.py:870: FutureWarning: The default value of `n_init` will change from 10 to 'auto' in 1.4. Set the value of `n_init` explicitly to suppress the warning\n",
      "  warnings.warn(\n"
     ]
    },
    {
     "name": "stdout",
     "output_type": "stream",
     "text": [
      "325\n"
     ]
    },
    {
     "name": "stderr",
     "output_type": "stream",
     "text": [
      "/home/bradley/anaconda3/lib/python3.10/site-packages/sklearn/cluster/_kmeans.py:870: FutureWarning: The default value of `n_init` will change from 10 to 'auto' in 1.4. Set the value of `n_init` explicitly to suppress the warning\n",
      "  warnings.warn(\n"
     ]
    },
    {
     "name": "stdout",
     "output_type": "stream",
     "text": [
      "350\n"
     ]
    },
    {
     "name": "stderr",
     "output_type": "stream",
     "text": [
      "/home/bradley/anaconda3/lib/python3.10/site-packages/sklearn/cluster/_kmeans.py:870: FutureWarning: The default value of `n_init` will change from 10 to 'auto' in 1.4. Set the value of `n_init` explicitly to suppress the warning\n",
      "  warnings.warn(\n"
     ]
    },
    {
     "name": "stdout",
     "output_type": "stream",
     "text": [
      "375\n"
     ]
    },
    {
     "name": "stderr",
     "output_type": "stream",
     "text": [
      "/home/bradley/anaconda3/lib/python3.10/site-packages/sklearn/cluster/_kmeans.py:870: FutureWarning: The default value of `n_init` will change from 10 to 'auto' in 1.4. Set the value of `n_init` explicitly to suppress the warning\n",
      "  warnings.warn(\n"
     ]
    },
    {
     "name": "stdout",
     "output_type": "stream",
     "text": [
      "400\n"
     ]
    },
    {
     "name": "stderr",
     "output_type": "stream",
     "text": [
      "/home/bradley/anaconda3/lib/python3.10/site-packages/sklearn/cluster/_kmeans.py:870: FutureWarning: The default value of `n_init` will change from 10 to 'auto' in 1.4. Set the value of `n_init` explicitly to suppress the warning\n",
      "  warnings.warn(\n"
     ]
    },
    {
     "name": "stdout",
     "output_type": "stream",
     "text": [
      "425\n"
     ]
    },
    {
     "name": "stderr",
     "output_type": "stream",
     "text": [
      "/home/bradley/anaconda3/lib/python3.10/site-packages/sklearn/cluster/_kmeans.py:870: FutureWarning: The default value of `n_init` will change from 10 to 'auto' in 1.4. Set the value of `n_init` explicitly to suppress the warning\n",
      "  warnings.warn(\n"
     ]
    },
    {
     "name": "stdout",
     "output_type": "stream",
     "text": [
      "450\n"
     ]
    },
    {
     "name": "stderr",
     "output_type": "stream",
     "text": [
      "/home/bradley/anaconda3/lib/python3.10/site-packages/sklearn/cluster/_kmeans.py:870: FutureWarning: The default value of `n_init` will change from 10 to 'auto' in 1.4. Set the value of `n_init` explicitly to suppress the warning\n",
      "  warnings.warn(\n"
     ]
    },
    {
     "name": "stdout",
     "output_type": "stream",
     "text": [
      "475\n"
     ]
    },
    {
     "name": "stderr",
     "output_type": "stream",
     "text": [
      "/home/bradley/anaconda3/lib/python3.10/site-packages/sklearn/cluster/_kmeans.py:870: FutureWarning: The default value of `n_init` will change from 10 to 'auto' in 1.4. Set the value of `n_init` explicitly to suppress the warning\n",
      "  warnings.warn(\n"
     ]
    },
    {
     "name": "stdout",
     "output_type": "stream",
     "text": [
      "500\n"
     ]
    },
    {
     "name": "stderr",
     "output_type": "stream",
     "text": [
      "/home/bradley/anaconda3/lib/python3.10/site-packages/sklearn/cluster/_kmeans.py:870: FutureWarning: The default value of `n_init` will change from 10 to 'auto' in 1.4. Set the value of `n_init` explicitly to suppress the warning\n",
      "  warnings.warn(\n"
     ]
    },
    {
     "name": "stdout",
     "output_type": "stream",
     "text": [
      "525\n"
     ]
    },
    {
     "name": "stderr",
     "output_type": "stream",
     "text": [
      "/home/bradley/anaconda3/lib/python3.10/site-packages/sklearn/cluster/_kmeans.py:870: FutureWarning: The default value of `n_init` will change from 10 to 'auto' in 1.4. Set the value of `n_init` explicitly to suppress the warning\n",
      "  warnings.warn(\n"
     ]
    },
    {
     "name": "stdout",
     "output_type": "stream",
     "text": [
      "550\n"
     ]
    },
    {
     "name": "stderr",
     "output_type": "stream",
     "text": [
      "/home/bradley/anaconda3/lib/python3.10/site-packages/sklearn/cluster/_kmeans.py:870: FutureWarning: The default value of `n_init` will change from 10 to 'auto' in 1.4. Set the value of `n_init` explicitly to suppress the warning\n",
      "  warnings.warn(\n"
     ]
    },
    {
     "name": "stdout",
     "output_type": "stream",
     "text": [
      "575\n"
     ]
    },
    {
     "name": "stderr",
     "output_type": "stream",
     "text": [
      "/home/bradley/anaconda3/lib/python3.10/site-packages/sklearn/cluster/_kmeans.py:870: FutureWarning: The default value of `n_init` will change from 10 to 'auto' in 1.4. Set the value of `n_init` explicitly to suppress the warning\n",
      "  warnings.warn(\n"
     ]
    },
    {
     "name": "stdout",
     "output_type": "stream",
     "text": [
      "600\n"
     ]
    },
    {
     "name": "stderr",
     "output_type": "stream",
     "text": [
      "/home/bradley/anaconda3/lib/python3.10/site-packages/sklearn/cluster/_kmeans.py:870: FutureWarning: The default value of `n_init` will change from 10 to 'auto' in 1.4. Set the value of `n_init` explicitly to suppress the warning\n",
      "  warnings.warn(\n"
     ]
    },
    {
     "name": "stdout",
     "output_type": "stream",
     "text": [
      "625\n"
     ]
    }
   ],
   "source": [
    "# Here we will call our classes and loop through our samples\n",
    "# If you need to change the directory addresses entirely, they are refrenced in cells 2 & 6.\n",
    "\n",
    "if gpu_accelerated:\n",
    "    print(\"Running on GPU\")\n",
    "    cp = __import__(\"cupy\")\n",
    "    gpu_accel=True\n",
    "else:\n",
    "    print(\"Running on CPU\")\n",
    "    gpu_accel=False\n",
    "    cp = __import__(\"numpy\")\n",
    "\n",
    "\n",
    "# Number related to your first sample\n",
    "sample = 475\n",
    "parent_path = os.getcwd()\n",
    "\n",
    "#Create a loop for all samples\n",
    "for i in range(1):\n",
    "    \n",
    "    # Output path for the cleaned image\n",
    "    directory = f'A_{sample}'\n",
    "    path = os.path.join(parent_path, directory)\n",
    "    os.mkdir(path)\n",
    "    grain_path = os.path.join(path, 'grains')\n",
    "    os.mkdir(grain_path)\n",
    "    \n",
    "    # Create an instance of Preprocess and process the image\n",
    "    binzarize_image = Preprocess(directory)\n",
    "    # Call the instance to run the class\n",
    "    binned_image = binzarize_image.process_image()\n",
    "\n",
    "    # Create an instance of ColorWheel\n",
    "    processor = ColorWheelProcessor(binned_image, gpu_accel)\n",
    "    # Call the instance to run the class\n",
    "    processed_img = processor.process_image()\n",
    "\n",
    "    # Create an instance of PhaseSubtraction\n",
    "    phase_sub = PhaseSubtraction(processed_img, binned_image)\n",
    "    one_phase = phase_sub.subtract_black_from_input()\n",
    "\n",
    "    # Create an instance of ColorMaskProcessor\n",
    "    mask_maker = ColorMaskProcessor(one_phase, path)\n",
    "    mask_maker.process_image()\n",
    "\n",
    "    for i in range(5):\n",
    "        # Create an instance of GrainFinder\n",
    "        grain_finder = GrainFinder(i, directory)\n",
    "        grain_finder.process_image()\n",
    "    sample +=25\n",
    "    print(sample)"
   ]
  },
  {
   "cell_type": "code",
   "execution_count": null,
   "metadata": {},
   "outputs": [],
   "source": []
  }
 ],
 "metadata": {
  "interpreter": {
   "hash": "413c671aa7e40cc462263a6fa671beb89a62c72ca4392857d47c9c7364deff4f"
  },
  "kernelspec": {
   "display_name": "Python 3 (ipykernel)",
   "language": "python",
   "name": "python3"
  },
  "language_info": {
   "codemirror_mode": {
    "name": "ipython",
    "version": 3
   },
   "file_extension": ".py",
   "mimetype": "text/x-python",
   "name": "python",
   "nbconvert_exporter": "python",
   "pygments_lexer": "ipython3",
   "version": "3.10.9"
  }
 },
 "nbformat": 4,
 "nbformat_minor": 2
}
