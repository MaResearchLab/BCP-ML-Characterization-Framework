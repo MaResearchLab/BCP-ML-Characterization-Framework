{
 "cells": [
  {
   "cell_type": "code",
   "execution_count": 3,
   "id": "5ee612f0-a09a-4f7f-9363-4a666d54bbc3",
   "metadata": {},
   "outputs": [],
   "source": [
    "# Read area values from 'grain_size_summary.txt'\n",
    "grain_areas = {}\n",
    "with open('mixed_scaled_grain_area.txt', 'r') as f:\n",
    "    for line in f:\n",
    "        parts = line.split(':')\n",
    "        if len(parts) == 2:\n",
    "            sample = parts[0].strip()\n",
    "            value = float(parts[1].split()[0])  # Extract numerical value\n",
    "            grain_areas[sample] = value\n",
    "\n",
    "# Compute scaled values and write to output file\n",
    "with open('mixed_real_space_grain_area.txt', 'w') as f:\n",
    "    for sample, area in grain_areas.items():\n",
    "        scaled_value = area / 66564\n",
    "        f.write(f\"{sample}: {scaled_value:.4f} pixels\\n\")"
   ]
  }
 ],
 "metadata": {
  "kernelspec": {
   "display_name": "Python 3 (ipykernel)",
   "language": "python",
   "name": "python3"
  },
  "language_info": {
   "codemirror_mode": {
    "name": "ipython",
    "version": 3
   },
   "file_extension": ".py",
   "mimetype": "text/x-python",
   "name": "python",
   "nbconvert_exporter": "python",
   "pygments_lexer": "ipython3",
   "version": "3.11.7"
  }
 },
 "nbformat": 4,
 "nbformat_minor": 5
}
