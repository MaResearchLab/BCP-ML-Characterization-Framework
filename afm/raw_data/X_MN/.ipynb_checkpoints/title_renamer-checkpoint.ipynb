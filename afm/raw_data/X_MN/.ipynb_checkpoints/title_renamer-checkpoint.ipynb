{
 "cells": [
  {
   "cell_type": "code",
   "execution_count": 2,
   "id": "2ddef0d5-8b8a-42f9-babd-7ac4f7f4a05b",
   "metadata": {},
   "outputs": [
    {
     "name": "stdout",
     "output_type": "stream",
     "text": [
      "Renamed: X22_1_0000.png -> X22.png\n",
      "Renamed: X11_1_0000.png -> X11.png\n",
      "Renamed: X1_1_0000.png -> X1.png\n",
      "Renamed: X41_1_0000.png -> X41.png\n",
      "Renamed: X14_1_0000.png -> X14.png\n",
      "Renamed: X17_1_0000.png -> X17.png\n",
      "Renamed: X31_1_0000.png -> X31.png\n",
      "Renamed: X29_1_0000.png -> X29.png\n",
      "Renamed: X13_1_0000.png -> X13.png\n",
      "Renamed: X24_1_0000.png -> X24.png\n",
      "Renamed: X16_1_0000.png -> X16.png\n",
      "Renamed: X35_1_0000.png -> X35.png\n",
      "Renamed: X37_1_0000.png -> X37.png\n",
      "Renamed: X8_1_0000.png -> X8.png\n",
      "Renamed: X12_1_0000.png -> X12.png\n",
      "Renamed: X18_1_0000.png -> X18.png\n",
      "Renamed: X2_1_0000.png -> X2.png\n",
      "Renamed: X4_1_0000.png -> X4.png\n",
      "Renamed: X23_1_0000.png -> X23.png\n",
      "Renamed: X40_1_0000.png -> X40.png\n",
      "Renamed: X38_1_0000.png -> X38.png\n",
      "Renamed: X21_1_0000.png -> X21.png\n",
      "Renamed: X19_1_0000.png -> X19.png\n",
      "Renamed: X3_1_0000.png -> X3.png\n",
      "Renamed: X36_1_0000.png -> X36.png\n",
      "Renamed: X34_1_0000.png -> X34.png\n",
      "Renamed: X7_1_0000.png -> X7.png\n",
      "Renamed: X26_1_0000.png -> X26.png\n",
      "Renamed: X20_1_0000.png -> X20.png\n",
      "Renamed: X28_1_0000.png -> X28.png\n",
      "Renamed: X32_1_0000.png -> X32.png\n",
      "Renamed: X27_1_0000.png -> X27.png\n",
      "Renamed: X33_1_0000.png -> X33.png\n",
      "Renamed: X6_1_0000.png -> X6.png\n",
      "Renamed: X5_1_0000.png -> X5.png\n",
      "Renamed: X30_1_0000.png -> X30.png\n",
      "Renamed: X9_1_0000.png -> X9.png\n",
      "Renamed: X39_1_0000.png -> X39.png\n",
      "Renamed: X15_1_0000.png -> X15.png\n",
      "Renamed: X25_1_0000.png -> X25.png\n",
      "Renamed: X10_1_0000.png -> X10.png\n"
     ]
    }
   ],
   "source": [
    "import os\n",
    "\n",
    "def rename_images(folder_path, remove_text):\n",
    "    for filename in os.listdir(folder_path):\n",
    "        if filename.lower().endswith(('.png', '.jpg', '.jpeg', '.gif', '.bmp', '.tiff')):  # Add more extensions if needed\n",
    "            new_filename = filename.replace(remove_text, '')\n",
    "            old_path = os.path.join(folder_path, filename)\n",
    "            new_path = os.path.join(folder_path, new_filename)\n",
    "            os.rename(old_path, new_path)\n",
    "            print(f'Renamed: {filename} -> {new_filename}')\n",
    "\n",
    "if __name__ == \"__main__\":\n",
    "    folder_path = \"./\"\n",
    "    remove_text = \"_1_0000\"\n",
    "    rename_images(folder_path, remove_text)\n"
   ]
  },
  {
   "cell_type": "code",
   "execution_count": null,
   "id": "308c8ce2-5c7b-447f-883d-b8aade7ef764",
   "metadata": {},
   "outputs": [],
   "source": []
  }
 ],
 "metadata": {
  "kernelspec": {
   "display_name": "Python 3 (ipykernel)",
   "language": "python",
   "name": "python3"
  },
  "language_info": {
   "codemirror_mode": {
    "name": "ipython",
    "version": 3
   },
   "file_extension": ".py",
   "mimetype": "text/x-python",
   "name": "python",
   "nbconvert_exporter": "python",
   "pygments_lexer": "ipython3",
   "version": "3.11.7"
  }
 },
 "nbformat": 4,
 "nbformat_minor": 5
}
