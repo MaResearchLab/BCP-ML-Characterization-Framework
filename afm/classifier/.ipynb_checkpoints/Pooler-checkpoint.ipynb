{
 "cells": [
  {
   "cell_type": "code",
   "execution_count": 1,
   "id": "661c6702-f53d-47cd-a894-f57c57141d79",
   "metadata": {},
   "outputs": [
    {
     "ename": "ModuleNotFoundError",
     "evalue": "No module named 'cv2'",
     "output_type": "error",
     "traceback": [
      "\u001b[0;31m---------------------------------------------------------------------------\u001b[0m",
      "\u001b[0;31mModuleNotFoundError\u001b[0m                       Traceback (most recent call last)",
      "Cell \u001b[0;32mIn[1], line 1\u001b[0m\n\u001b[0;32m----> 1\u001b[0m \u001b[38;5;28;01mimport\u001b[39;00m \u001b[38;5;21;01mcv2\u001b[39;00m\n\u001b[1;32m      2\u001b[0m \u001b[38;5;28;01mimport\u001b[39;00m \u001b[38;5;21;01mnumpy\u001b[39;00m \u001b[38;5;28;01mas\u001b[39;00m \u001b[38;5;21;01mnp\u001b[39;00m\n\u001b[1;32m      4\u001b[0m \u001b[38;5;28;01mdef\u001b[39;00m \u001b[38;5;21mmax_pooling_2x2\u001b[39m(img):\n",
      "\u001b[0;31mModuleNotFoundError\u001b[0m: No module named 'cv2'"
     ]
    }
   ],
   "source": [
    "import cv2\n",
    "import numpy as np\n",
    "\n",
    "def max_pooling_2x2(img):\n",
    "    \"\"\"\n",
    "    Perform 2x2 max pooling with stride 2 on a binary image.\n",
    "    Assumes img is a 2D numpy array with binary values (0 or 1).\n",
    "    \"\"\"\n",
    "    h, w = img.shape\n",
    "    pooled_h = h // 2\n",
    "    pooled_w = w // 2\n",
    "\n",
    "    pooled = np.zeros((pooled_h, pooled_w), dtype=np.uint8)\n",
    "\n",
    "    for i in range(0, h - 1, 2):\n",
    "        for j in range(0, w - 1, 2):\n",
    "            patch = img[i:i+2, j:j+2]\n",
    "            pooled[i//2, j//2] = np.max(patch)\n",
    "\n",
    "    return pooled\n",
    "\n",
    "def main():\n",
    "    # Load image in grayscale (0 loads it as a 2D array)\n",
    "    input_path = 'input_binary.png'  # replace with your file path\n",
    "    img = cv2.imread(input_path, 0)\n",
    "\n",
    "    # Threshold the image to ensure binary (if needed)\n",
    "    _, binary_img = cv2.threshold(img, 127, 1, cv2.THRESH_BINARY)\n",
    "\n",
    "    pooled_img = max_pooling_2x2(binary_img)\n",
    "\n",
    "    # Scale back to 0-255 for visualization/saving\n",
    "    pooled_img_visual = pooled_img * 255\n",
    "    cv2.imwrite('pooled_output.png', pooled_img_visual)\n",
    "\n",
    "    print(\"Pooled image saved as 'pooled_output.png'\")\n",
    "\n",
    "if __name__ == \"__main__\":\n",
    "    main()"
   ]
  }
 ],
 "metadata": {
  "kernelspec": {
   "display_name": "Python 3 (ipykernel)",
   "language": "python",
   "name": "python3"
  },
  "language_info": {
   "codemirror_mode": {
    "name": "ipython",
    "version": 3
   },
   "file_extension": ".py",
   "mimetype": "text/x-python",
   "name": "python",
   "nbconvert_exporter": "python",
   "pygments_lexer": "ipython3",
   "version": "3.11.7"
  }
 },
 "nbformat": 4,
 "nbformat_minor": 5
}
