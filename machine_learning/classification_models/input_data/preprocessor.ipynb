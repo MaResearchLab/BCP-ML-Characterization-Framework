{
 "cells": [
  {
   "cell_type": "markdown",
   "metadata": {},
   "source": [
    "# Define our functions"
   ]
  },
  {
   "cell_type": "code",
   "execution_count": 11,
   "metadata": {},
   "outputs": [],
   "source": [
    "import math\n",
    "import matplotlib.pyplot as plt\n",
    "import cv2\n",
    "import numpy as np\n",
    "import scipy.constants as sc\n",
    "from sklearn.cluster import KMeans\n",
    "from skimage import measure\n",
    "import random\n",
    "from collections import deque\n",
    "import os\n",
    "import math\n",
    "import PIL\n",
    "from scipy.fft import fft2, ifft2, fftshift\n",
    "from joblib import Parallel, delayed\n",
    "from PIL import Image\n",
    "from PIL import ImageEnhance\n",
    "from PIL import ImageFilter  \n",
    "from skimage import io\n",
    "# import cupy_common\n",
    "# from cupy_common import check_cupy_available\n",
    "# gpu_accelerated = check_cupy_available()"
   ]
  },
  {
   "cell_type": "code",
   "execution_count": 31,
   "metadata": {},
   "outputs": [],
   "source": [
    "import cv2\n",
    "import os\n",
    "\n",
    "class Preprocess:\n",
    "    def __init__(self, directory):\n",
    "        self.global_thresh_value = 350\n",
    "        self.adaptive_thresh_window_size = 25\n",
    "        self.adaptive_thresh_C = 2\n",
    "        self.morph_kernel_size = 2\n",
    "        self.morph_iterations = 1\n",
    "        self.directory = directory\n",
    "\n",
    "    def read_image(self):\n",
    "        self.image_path = f'./im/1/{self.directory}.jpg'\n",
    "        return cv2.imread(self.image_path, cv2.IMREAD_GRAYSCALE)\n",
    "\n",
    "    def global_threshold(self, image):\n",
    "        _, global_thresh_mask = cv2.threshold(image, self.global_thresh_value, 255, cv2.THRESH_BINARY)\n",
    "        return global_thresh_mask\n",
    "\n",
    "    def adaptive_threshold(self, image):\n",
    "        adaptive_mask = cv2.adaptiveThreshold(\n",
    "            image, 255, cv2.ADAPTIVE_THRESH_GAUSSIAN_C, cv2.THRESH_BINARY_INV,\n",
    "            self.adaptive_thresh_window_size, self.adaptive_thresh_C)\n",
    "        return adaptive_mask\n",
    "\n",
    "    def combine_masks(self, global_mask, adaptive_mask):\n",
    "        return cv2.bitwise_or(global_mask, adaptive_mask)\n",
    "\n",
    "    def morphological_operations(self, combined_mask):\n",
    "        kernel = cv2.getStructuringElement(cv2.MORPH_ELLIPSE, (self.morph_kernel_size, self.morph_kernel_size))\n",
    "        return cv2.morphologyEx(combined_mask, cv2.MORPH_OPEN, kernel, iterations=self.morph_iterations)\n",
    "\n",
    "    def save_cleaned_image(self, cleaned_image):\n",
    "        output_path = os.path.join(f'./bin/1/{self.directory}.tiff')\n",
    "        cv2.imwrite(output_path, cleaned_image)\n",
    "\n",
    "    def process_image(self):\n",
    "        image = self.read_image()\n",
    "        global_mask = self.global_threshold(image)\n",
    "        adaptive_mask = self.adaptive_threshold(image)\n",
    "        combined_mask = self.combine_masks(global_mask, adaptive_mask)\n",
    "        cleaned_image = self.morphological_operations(combined_mask)\n",
    "        self.save_cleaned_image(cleaned_image)\n",
    "        return cleaned_image"
   ]
  },
  {
   "cell_type": "code",
   "execution_count": 38,
   "metadata": {},
   "outputs": [
    {
     "name": "stdout",
     "output_type": "stream",
     "text": [
      "125\n",
      "150\n",
      "175\n",
      "200\n",
      "225\n",
      "250\n",
      "275\n",
      "300\n",
      "325\n",
      "350\n",
      "375\n",
      "400\n",
      "425\n",
      "450\n",
      "475\n",
      "500\n",
      "525\n",
      "550\n",
      "575\n",
      "600\n",
      "625\n"
     ]
    },
    {
     "name": "stderr",
     "output_type": "stream",
     "text": [
      "[ WARN:0@852.082] global loadsave.cpp:248 findDecoder imread_('./im/1/F_625.jpg'): can't open/read file: check file path/integrity\n"
     ]
    },
    {
     "ename": "error",
     "evalue": "OpenCV(4.9.0) /io/opencv/modules/imgproc/src/smooth.dispatch.cpp:617: error: (-215:Assertion failed) !_src.empty() in function 'GaussianBlur'\n",
     "output_type": "error",
     "traceback": [
      "\u001b[0;31m---------------------------------------------------------------------------\u001b[0m",
      "\u001b[0;31merror\u001b[0m                                     Traceback (most recent call last)",
      "File \u001b[0;32m<timed exec>:27\u001b[0m\n",
      "Cell \u001b[0;32mIn[31], line 41\u001b[0m, in \u001b[0;36mPreprocess.process_image\u001b[0;34m(self)\u001b[0m\n\u001b[1;32m     39\u001b[0m image \u001b[38;5;241m=\u001b[39m \u001b[38;5;28mself\u001b[39m\u001b[38;5;241m.\u001b[39mread_image()\n\u001b[1;32m     40\u001b[0m global_mask \u001b[38;5;241m=\u001b[39m \u001b[38;5;28mself\u001b[39m\u001b[38;5;241m.\u001b[39mglobal_threshold(image)\n\u001b[0;32m---> 41\u001b[0m adaptive_mask \u001b[38;5;241m=\u001b[39m \u001b[38;5;28mself\u001b[39m\u001b[38;5;241m.\u001b[39madaptive_threshold(image)\n\u001b[1;32m     42\u001b[0m combined_mask \u001b[38;5;241m=\u001b[39m \u001b[38;5;28mself\u001b[39m\u001b[38;5;241m.\u001b[39mcombine_masks(global_mask, adaptive_mask)\n\u001b[1;32m     43\u001b[0m cleaned_image \u001b[38;5;241m=\u001b[39m \u001b[38;5;28mself\u001b[39m\u001b[38;5;241m.\u001b[39mmorphological_operations(combined_mask)\n",
      "Cell \u001b[0;32mIn[31], line 22\u001b[0m, in \u001b[0;36mPreprocess.adaptive_threshold\u001b[0;34m(self, image)\u001b[0m\n\u001b[1;32m     21\u001b[0m \u001b[38;5;28;01mdef\u001b[39;00m \u001b[38;5;21madaptive_threshold\u001b[39m(\u001b[38;5;28mself\u001b[39m, image):\n\u001b[0;32m---> 22\u001b[0m     adaptive_mask \u001b[38;5;241m=\u001b[39m cv2\u001b[38;5;241m.\u001b[39madaptiveThreshold(\n\u001b[1;32m     23\u001b[0m         image, \u001b[38;5;241m255\u001b[39m, cv2\u001b[38;5;241m.\u001b[39mADAPTIVE_THRESH_GAUSSIAN_C, cv2\u001b[38;5;241m.\u001b[39mTHRESH_BINARY_INV,\n\u001b[1;32m     24\u001b[0m         \u001b[38;5;28mself\u001b[39m\u001b[38;5;241m.\u001b[39madaptive_thresh_window_size, \u001b[38;5;28mself\u001b[39m\u001b[38;5;241m.\u001b[39madaptive_thresh_C)\n\u001b[1;32m     25\u001b[0m     \u001b[38;5;28;01mreturn\u001b[39;00m adaptive_mask\n",
      "\u001b[0;31merror\u001b[0m: OpenCV(4.9.0) /io/opencv/modules/imgproc/src/smooth.dispatch.cpp:617: error: (-215:Assertion failed) !_src.empty() in function 'GaussianBlur'\n"
     ]
    }
   ],
   "source": [
    "%%time\n",
    "\n",
    "# Here we will call our classes and loop through our samples\n",
    "# If you need to change the directory addresses entirely, they are refrenced in cells 2 & 6.\n",
    "\n",
    "# if gpu_accelerated:\n",
    "#     print(\"Running on GPU\")\n",
    "#     cp = __import__(\"cupy\")\n",
    "#     gpu_accel=True\n",
    "# else:\n",
    "#     print(\"Running on CPU\")\n",
    "#     gpu_accel=False\n",
    "#     cp = __import__(\"numpy\")\n",
    "\n",
    "\n",
    "# Number related to your fist sample\n",
    "sample = 100\n",
    "parent_path = os.getcwd()\n",
    "\n",
    "#Create a loop for all samples\n",
    "for i in range(24):\n",
    "    \n",
    "    # Output path for the cleaned image\n",
    "    directory = f'F_{sample}'\n",
    "\n",
    "    # Create an instance of Preprocess and process the image\n",
    "    binzarize_image = Preprocess(directory)\n",
    "    # Call the instance to run the class\n",
    "    binned_image = binzarize_image.process_image()\n",
    "\n",
    "    sample +=25\n",
    "    print(sample)"
   ]
  },
  {
   "cell_type": "code",
   "execution_count": 29,
   "metadata": {},
   "outputs": [
    {
     "name": "stdout",
     "output_type": "stream",
     "text": [
      "Conversion completed successfully.\n"
     ]
    }
   ],
   "source": [
    "from PIL import Image\n",
    "import os\n",
    "\n",
    "def tiff_to_jpg(input_path, output_path):\n",
    "    try:\n",
    "        # Open the TIFF image\n",
    "        with Image.open(input_path) as img:\n",
    "            # Convert and save as JPG\n",
    "            img.convert(\"RGB\").save(output_path, \"JPEG\")\n",
    "        print(\"Conversion completed successfully.\")\n",
    "    except Exception as e:\n",
    "        print(f\"Error: {e}\")\n",
    "\n",
    "# Provide the input and output paths\n",
    "input_path = \"../../../color_wheel/inputs/A_80_20/A_AC.tiff\"\n",
    "output_path = \"A_AC.jpg\"\n",
    "\n",
    "# Check if input file exists\n",
    "if os.path.exists(input_path):\n",
    "    tiff_to_jpg(input_path, output_path)\n",
    "else:\n",
    "    print(\"Input file not found.\")\n"
   ]
  },
  {
   "cell_type": "code",
   "execution_count": null,
   "metadata": {},
   "outputs": [],
   "source": [
    "# Augments the images by incriments of 90 degrees"
   ]
  },
  {
   "cell_type": "code",
   "execution_count": 42,
   "metadata": {},
   "outputs": [
    {
     "name": "stdout",
     "output_type": "stream",
     "text": [
      "Image rotation completed successfully.\n"
     ]
    }
   ],
   "source": [
    "from PIL import Image\n",
    "import os\n",
    "\n",
    "def rotate_images(input_folder, output_folder):\n",
    "    try:\n",
    "        # Create the output folder if it doesn't exist\n",
    "        if not os.path.exists(output_folder):\n",
    "            os.makedirs(output_folder)\n",
    "\n",
    "        # Loop through all files in the input folder\n",
    "        for filename in os.listdir(input_folder):\n",
    "            if filename.endswith(('.jpg', '.jpeg', '.png', '.bmp', '.tiff')):\n",
    "                # Open the image\n",
    "                with Image.open(os.path.join(input_folder, filename)) as img:\n",
    "                    # Rotate and save the image copies\n",
    "                    img_rotated_90 = img.rotate(90)\n",
    "                    img_rotated_90.save(os.path.join(output_folder, f\"{os.path.splitext(filename)[0]}_rotated_90.jpg\"))\n",
    "\n",
    "                    img_rotated_180 = img.rotate(180)\n",
    "                    img_rotated_180.save(os.path.join(output_folder, f\"{os.path.splitext(filename)[0]}_rotated_180.jpg\"))\n",
    "\n",
    "                    img_rotated_270 = img.rotate(270)\n",
    "                    img_rotated_270.save(os.path.join(output_folder, f\"{os.path.splitext(filename)[0]}_rotated_270.jpg\"))\n",
    "\n",
    "        print(\"Image rotation completed successfully.\")\n",
    "    except Exception as e:\n",
    "        print(f\"Error: {e}\")\n",
    "\n",
    "# Provide the input and output folder paths\n",
    "input_folder = \"../input_data/tri/vert_horiz/\"\n",
    "output_folder = \"../input_data/tri/vert_horiz/\"\n",
    "\n",
    "# Check if input folder exists\n",
    "if os.path.exists(input_folder):\n",
    "    rotate_images(input_folder, output_folder)\n",
    "else:\n",
    "    print(\"Input folder not found.\")\n"
   ]
  }
 ],
 "metadata": {
  "interpreter": {
   "hash": "413c671aa7e40cc462263a6fa671beb89a62c72ca4392857d47c9c7364deff4f"
  },
  "kernelspec": {
   "display_name": "Python 3 (ipykernel)",
   "language": "python",
   "name": "python3"
  },
  "language_info": {
   "codemirror_mode": {
    "name": "ipython",
    "version": 3
   },
   "file_extension": ".py",
   "mimetype": "text/x-python",
   "name": "python",
   "nbconvert_exporter": "python",
   "pygments_lexer": "ipython3",
   "version": "3.11.5"
  }
 },
 "nbformat": 4,
 "nbformat_minor": 4
}
