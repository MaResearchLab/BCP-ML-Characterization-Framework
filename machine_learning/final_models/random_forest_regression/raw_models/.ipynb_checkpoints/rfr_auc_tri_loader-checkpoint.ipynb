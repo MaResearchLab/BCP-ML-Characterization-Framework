{
 "cells": [
  {
   "cell_type": "markdown",
   "id": "10058484",
   "metadata": {},
   "source": [
    "# Import packages and load data"
   ]
  },
  {
   "cell_type": "code",
   "execution_count": 1,
   "id": "7c853927",
   "metadata": {},
   "outputs": [],
   "source": [
    "import pandas as pd\n",
    "import numpy as np\n",
    "import sklearn\n",
    "import matplotlib.pyplot as plt\n",
    "from sklearn.ensemble import RandomForestClassifier\n",
    "from sklearn.model_selection import train_test_split\n",
    "from sklearn import model_selection\n",
    "from sklearn.preprocessing import MinMaxScaler\n",
    "from sklearn.preprocessing import LabelEncoder\n",
    "from sklearn.model_selection import GridSearchCV\n",
    "from sklearn.preprocessing import LabelBinarizer\n",
    "from sklearn.model_selection import StratifiedShuffleSplit\n",
    "from matplotlib import rc\n",
    "xscaler = MinMaxScaler()"
   ]
  },
  {
   "cell_type": "code",
   "execution_count": 2,
   "id": "e556ce17",
   "metadata": {
    "scrolled": true
   },
   "outputs": [
    {
     "data": {
      "text/html": [
       "<div>\n",
       "<style scoped>\n",
       "    .dataframe tbody tr th:only-of-type {\n",
       "        vertical-align: middle;\n",
       "    }\n",
       "\n",
       "    .dataframe tbody tr th {\n",
       "        vertical-align: top;\n",
       "    }\n",
       "\n",
       "    .dataframe thead th {\n",
       "        text-align: right;\n",
       "    }\n",
       "</style>\n",
       "<table border=\"1\" class=\"dataframe\">\n",
       "  <thead>\n",
       "    <tr style=\"text-align: right;\">\n",
       "      <th></th>\n",
       "      <th>Sample Name</th>\n",
       "      <th>Polymer Component</th>\n",
       "      <th>Polymer Conc.(mg/ml)</th>\n",
       "      <th>Solvent type</th>\n",
       "      <th>Solvent Ratio</th>\n",
       "      <th>Additive type</th>\n",
       "      <th>Amount of additive (mg/ml)</th>\n",
       "      <th>Peak Position</th>\n",
       "      <th>FWHM</th>\n",
       "      <th>domain</th>\n",
       "      <th>grain size</th>\n",
       "      <th>afm_domain</th>\n",
       "      <th>O/D</th>\n",
       "      <th>tri</th>\n",
       "    </tr>\n",
       "  </thead>\n",
       "  <tbody>\n",
       "    <tr>\n",
       "      <th>0</th>\n",
       "      <td>I_A_AC</td>\n",
       "      <td>PS-b-PEO</td>\n",
       "      <td>20</td>\n",
       "      <td>Toluene/THF</td>\n",
       "      <td>80/20</td>\n",
       "      <td>Chloronaphthalene</td>\n",
       "      <td>0</td>\n",
       "      <td>0.020072</td>\n",
       "      <td>0.003697</td>\n",
       "      <td>31.302630</td>\n",
       "      <td>NaN</td>\n",
       "      <td>33.737303</td>\n",
       "      <td>0</td>\n",
       "      <td>0</td>\n",
       "    </tr>\n",
       "    <tr>\n",
       "      <th>1</th>\n",
       "      <td>I_A025</td>\n",
       "      <td>PS-b-PEO</td>\n",
       "      <td>20</td>\n",
       "      <td>Toluene/THF</td>\n",
       "      <td>80/20</td>\n",
       "      <td>Chloronaphthalene</td>\n",
       "      <td>5</td>\n",
       "      <td>0.018586</td>\n",
       "      <td>0.003136</td>\n",
       "      <td>33.805848</td>\n",
       "      <td>0.006850</td>\n",
       "      <td>35.151690</td>\n",
       "      <td>0</td>\n",
       "      <td>1</td>\n",
       "    </tr>\n",
       "    <tr>\n",
       "      <th>2</th>\n",
       "      <td>I_A050</td>\n",
       "      <td>PS-b-PEO</td>\n",
       "      <td>20</td>\n",
       "      <td>Toluene/THF</td>\n",
       "      <td>80/20</td>\n",
       "      <td>Chloronaphthalene</td>\n",
       "      <td>10</td>\n",
       "      <td>0.018385</td>\n",
       "      <td>0.002970</td>\n",
       "      <td>34.176062</td>\n",
       "      <td>0.057600</td>\n",
       "      <td>35.397797</td>\n",
       "      <td>0</td>\n",
       "      <td>1</td>\n",
       "    </tr>\n",
       "    <tr>\n",
       "      <th>3</th>\n",
       "      <td>I_A075</td>\n",
       "      <td>PS-b-PEO</td>\n",
       "      <td>20</td>\n",
       "      <td>Toluene/THF</td>\n",
       "      <td>80/20</td>\n",
       "      <td>Chloronaphthalene</td>\n",
       "      <td>15</td>\n",
       "      <td>0.018274</td>\n",
       "      <td>0.003451</td>\n",
       "      <td>34.383752</td>\n",
       "      <td>0.073026</td>\n",
       "      <td>34.603726</td>\n",
       "      <td>0</td>\n",
       "      <td>1</td>\n",
       "    </tr>\n",
       "    <tr>\n",
       "      <th>4</th>\n",
       "      <td>I_A_100</td>\n",
       "      <td>PS-b-PEO</td>\n",
       "      <td>20</td>\n",
       "      <td>Toluene/THF</td>\n",
       "      <td>80/20</td>\n",
       "      <td>Chloronaphthalene</td>\n",
       "      <td>20</td>\n",
       "      <td>0.019837</td>\n",
       "      <td>0.005122</td>\n",
       "      <td>31.674149</td>\n",
       "      <td>0.016718</td>\n",
       "      <td>33.786210</td>\n",
       "      <td>0</td>\n",
       "      <td>1</td>\n",
       "    </tr>\n",
       "  </tbody>\n",
       "</table>\n",
       "</div>"
      ],
      "text/plain": [
       "  Sample Name Polymer Component  Polymer Conc.(mg/ml) Solvent type  \\\n",
       "0      I_A_AC          PS-b-PEO                    20  Toluene/THF   \n",
       "1      I_A025          PS-b-PEO                    20  Toluene/THF   \n",
       "2      I_A050          PS-b-PEO                    20  Toluene/THF   \n",
       "3      I_A075          PS-b-PEO                    20  Toluene/THF   \n",
       "4     I_A_100          PS-b-PEO                    20  Toluene/THF   \n",
       "\n",
       "  Solvent Ratio      Additive type  Amount of additive (mg/ml)  Peak Position  \\\n",
       "0         80/20  Chloronaphthalene                           0       0.020072   \n",
       "1         80/20  Chloronaphthalene                           5       0.018586   \n",
       "2         80/20  Chloronaphthalene                          10       0.018385   \n",
       "3         80/20  Chloronaphthalene                          15       0.018274   \n",
       "4         80/20  Chloronaphthalene                          20       0.019837   \n",
       "\n",
       "       FWHM     domain  grain size  afm_domain  O/D  tri  \n",
       "0  0.003697  31.302630         NaN   33.737303    0    0  \n",
       "1  0.003136  33.805848    0.006850   35.151690    0    1  \n",
       "2  0.002970  34.176062    0.057600   35.397797    0    1  \n",
       "3  0.003451  34.383752    0.073026   34.603726    0    1  \n",
       "4  0.005122  31.674149    0.016718   33.786210    0    1  "
      ]
     },
     "execution_count": 2,
     "metadata": {},
     "output_type": "execute_result"
    }
   ],
   "source": [
    "file_path = '../input_data/full_set.csv'\n",
    "model_output = 'order_disorder'\n",
    "# import data frame for pre-processing\n",
    "df = pd.read_csv(file_path)\n",
    "df.head()"
   ]
  },
  {
   "cell_type": "markdown",
   "id": "c48ce17a",
   "metadata": {},
   "source": [
    "# Grid-Search"
   ]
  },
  {
   "cell_type": "code",
   "execution_count": 3,
   "id": "2a7bcc38",
   "metadata": {},
   "outputs": [
    {
     "name": "stdout",
     "output_type": "stream",
     "text": [
      "CPU times: user 5.65 ms, sys: 33 µs, total: 5.68 ms\n",
      "Wall time: 5.68 ms\n"
     ]
    }
   ],
   "source": [
    "%%time\n",
    "# assign input variables and target variable, eliminates static values from the data set\n",
    "inputs = df.loc[:, ('Solvent Ratio', 'Amount of additive (mg/ml)')]\n",
    "target = df['tri']\n",
    "\n",
    "# Define the custom mapping dictionary\n",
    "mapping_dict = {'50/50': 0.5, '60/40': 0.6, '70/30': 0.7, '80/20': 0.8, '90/10': 0.9, '100': 1.0}\n",
    "\n",
    "# Initializes label encoder\n",
    "le_solventRatio = LabelEncoder()\n",
    "le_solventRatio.fit(list(mapping_dict.keys()))\n",
    "# encode non-numeric type inputs\n",
    "# inputs['Solvent Ratio_n'] = le_solventRatio.transform(inputs['Solvent Ratio'])\n",
    "# Map the transformed values to the desired values\n",
    "inputs['Solvent Ratio_n'] = inputs['Solvent Ratio'].map(mapping_dict)\n",
    "# remove non-encoded data from dataset \n",
    "inputs_n = inputs.drop(['Solvent Ratio'],axis='columns')\n",
    "\n",
    "# Split the data into training and test sets using StratifiedShuffleSplit\n",
    "sss = StratifiedShuffleSplit(n_splits=1, test_size=0.2, random_state=10)\n",
    "\n",
    "for train_index, test_index in sss.split(inputs_n, target):\n",
    "    X_train, X_test = inputs_n.iloc[train_index], inputs_n.iloc[test_index]\n",
    "    y_train, y_test = target.iloc[train_index], target.iloc[test_index]\n",
    "\n",
    "# Scale the x data for better fitting\n",
    "xscaler.fit(X_train)\n",
    "X_train = xscaler.transform(X_train)\n",
    "X_test = xscaler.transform(X_test)\n",
    "X_all = xscaler.transform(inputs_n)"
   ]
  },
  {
   "cell_type": "code",
   "execution_count": 4,
   "id": "111ddfcd-d3f3-421d-ba89-f95302f69a38",
   "metadata": {},
   "outputs": [],
   "source": [
    "target_label = LabelBinarizer().fit_transform(target)"
   ]
  },
  {
   "cell_type": "code",
   "execution_count": 5,
   "id": "3ddd6def-5180-452e-bc6e-e49a99ba7cfc",
   "metadata": {},
   "outputs": [],
   "source": [
    "# Set option to display all columns and rows\n",
    "pd.set_option('display.max_columns', None)\n",
    "pd.set_option('display.max_rows', None)\n",
    "# print(target_label)"
   ]
  },
  {
   "cell_type": "markdown",
   "id": "f71f15a7-02e5-4d66-96ed-502344a943a4",
   "metadata": {},
   "source": [
    "# Data pre-processing"
   ]
  },
  {
   "cell_type": "code",
   "execution_count": 5,
   "id": "b78bf070-9d36-466c-821f-00d69475cce5",
   "metadata": {},
   "outputs": [],
   "source": [
    "from joblib import dump, load\n",
    "# Convert cv_results_ to DataFrame\n",
    "\n",
    "# Save the trained model\n",
    "best = load('rfc_multiclass.joblib')"
   ]
  },
  {
   "cell_type": "code",
   "execution_count": 6,
   "id": "bf203db8",
   "metadata": {},
   "outputs": [],
   "source": [
    "# Create an instance of the best performing model & train\n",
    "rfreval = best.predict(X_test)\n",
    "rfrtrain = best.predict(X_train)\n",
    "\n",
    "# Create an array for x values\n",
    "x_len = len(rfreval)\n",
    "actual_x = np.arange(1, x_len+1)\n",
    "\n",
    "# Define the output path for figures\n",
    "output_path = f'./final_figs/{model_output}/'"
   ]
  },
  {
   "cell_type": "code",
   "execution_count": 7,
   "id": "5f6860b5-059c-4185-9bea-ec651334dc56",
   "metadata": {},
   "outputs": [
    {
     "name": "stdout",
     "output_type": "stream",
     "text": [
      "Training F1 Score: [1. 1. 1.]\n",
      "Testing F1 Score: [0.         0.90909091 1.        ]\n"
     ]
    }
   ],
   "source": [
    "from sklearn.metrics import f1_score\n",
    "\n",
    "# Make predictions using the best model\n",
    "y_pred_train = best.predict(X_train)\n",
    "y_pred_test = best.predict(X_test)\n",
    "\n",
    "# Calculate the F1 score\n",
    "f1_train = f1_score(y_train, y_pred_train, average = None)\n",
    "f1_test = f1_score(y_test, y_pred_test, average = None)\n",
    "\n",
    "print(\"Training F1 Score:\", f1_train)\n",
    "print(\"Testing F1 Score:\", f1_test)"
   ]
  },
  {
   "cell_type": "code",
   "execution_count": 10,
   "id": "09acf273-35ea-47b7-93ba-1633c808809f",
   "metadata": {},
   "outputs": [
    {
     "name": "stdout",
     "output_type": "stream",
     "text": [
      "Training AUC Score: 1.0\n",
      "Testing AUC Score: 1.0\n"
     ]
    }
   ],
   "source": [
    "from sklearn.metrics import roc_auc_score\n",
    "\n",
    "# Predict probabilities for test data\n",
    "y_pred_proba_train = best.predict_proba(X_train)#[:, 1]\n",
    "y_pred_proba_test = best.predict_proba(X_test)#[:, 1]\n",
    "\n",
    "# Calculate AUC score\n",
    "auc_score_train = roc_auc_score(y_train, y_pred_proba_train, multi_class = 'ovr')\n",
    "auc_score_test = roc_auc_score(y_test, y_pred_proba_test, multi_class = 'ovr')\n",
    "\n",
    "print(\"Training AUC Score:\", auc_score_train)\n",
    "print(\"Testing AUC Score:\", auc_score_test)"
   ]
  },
  {
   "cell_type": "code",
   "execution_count": 11,
   "id": "138c32b7",
   "metadata": {},
   "outputs": [
    {
     "data": {
      "text/plain": [
       "['rfc_multiclass.joblib']"
      ]
     },
     "execution_count": 11,
     "metadata": {},
     "output_type": "execute_result"
    }
   ],
   "source": [
    "from joblib import dump, load\n",
    "# Convert cv_results_ to DataFrame\n",
    "results_df = pd.DataFrame(grid_search.cv_results_)\n",
    "\n",
    "file_name = 'grid_search_results.csv'\n",
    "# Save results to CSV file\n",
    "results_df.to_csv(output_path + file_name, index=False)\n",
    "\n",
    "# Save the trained model\n",
    "dump(best, 'rfc_multiclass.joblib')"
   ]
  },
  {
   "cell_type": "markdown",
   "id": "665b3dea",
   "metadata": {},
   "source": [
    "# Visualize the results"
   ]
  },
  {
   "cell_type": "code",
   "execution_count": 12,
   "id": "4bd3169a",
   "metadata": {},
   "outputs": [],
   "source": [
    "# predic_set = inputs_n\n",
    "rfc_fullset = best.predict(X_all)"
   ]
  },
  {
   "cell_type": "code",
   "execution_count": 13,
   "id": "44626b83-2f4a-4588-93c1-3955a126c4e6",
   "metadata": {},
   "outputs": [
    {
     "data": {
      "image/png": "[encoded data removed]",
      "text/plain": [
       "<Figure size 640x480 with 1 Axes>"
      ]
     },
     "metadata": {},
     "output_type": "display_data"
    }
   ],
   "source": [
    "# Assuming your actual and predicted data are pandas DataFrames with columns 'input1', 'input2', and 'class'\n",
    "from matplotlib.ticker import MultipleLocator\n",
    "from matplotlib.markers import MarkerStyle\n",
    "fig_title = f'{model_output}_classification_scatter.png'\n",
    "\n",
    "# Define marker colors and edgecolors based on class\n",
    "actual_colors = ['gold' if c == 0 else 'darkgoldenrod' if c == 1 else 'black' for c in target]\n",
    "predicted_colors = ['gold' if c == 0 else 'darkgoldenrod' if c == 1 else 'black' for c in rfc_fullset]\n",
    "fig = plt.figure()\n",
    "ax = plt.subplot(111)\n",
    "# Plotting\n",
    "ax.scatter(inputs['Amount of additive (mg/ml)'], \n",
    "            inputs['Solvent Ratio_n'], marker='s', color='black', alpha = 0.25,\n",
    "            label='Actual Data', facecolor=actual_colors, s=150)\n",
    "ax.scatter(inputs['Amount of additive (mg/ml)'], \n",
    "            inputs['Solvent Ratio_n'], marker='v', color='black', alpha = 0.75,\n",
    "            label='Predicted Data', facecolor=predicted_colors, s=75)\n",
    "\n",
    "plt.xlabel('Amount of additive (mg/ml)')\n",
    "plt.ylabel('Solvent Ratio')\n",
    "# plt.title('Scatter plot of Actual vs Predicted Data')\n",
    "plt.gca().yaxis.set_major_locator(MultipleLocator(0.1))\n",
    "\n",
    "# Shrink current axis by 20%\n",
    "box = ax.get_position()\n",
    "\n",
    "# Put a legend below current axis\n",
    "ax.legend(loc='upper center', bbox_to_anchor=(0.5, -0.125),\n",
    "          fancybox=True, shadow=True, ncol=5)\n",
    "# ax.legend()\n",
    "# plt.savefig(output_path + fig_title, format='png')\n",
    "plt.show()\n"
   ]
  },
  {
   "cell_type": "code",
   "execution_count": 14,
   "id": "8ced1aaf-5ace-49fa-b9fa-73606fdfff5f",
   "metadata": {},
   "outputs": [
    {
     "name": "stdout",
     "output_type": "stream",
     "text": [
      "Confusion Matrix:\n",
      "[[  5   1   0]\n",
      " [  0  24   0]\n",
      " [  0   0 120]]\n"
     ]
    }
   ],
   "source": [
    "from sklearn.metrics import confusion_matrix\n",
    "\n",
    "# Generate confusion matrix\n",
    "cm = confusion_matrix(target, rfc_fullset)\n",
    "\n",
    "print(\"Confusion Matrix:\")\n",
    "print(cm)"
   ]
  }
 ],
 "metadata": {
  "kernelspec": {
   "display_name": "Python 3 (ipykernel)",
   "language": "python",
   "name": "python3"
  },
  "language_info": {
   "codemirror_mode": {
    "name": "ipython",
    "version": 3
   },
   "file_extension": ".py",
   "mimetype": "text/x-python",
   "name": "python",
   "nbconvert_exporter": "python",
   "pygments_lexer": "ipython3",
   "version": "3.11.0"
  }
 },
 "nbformat": 4,
 "nbformat_minor": 5
}
