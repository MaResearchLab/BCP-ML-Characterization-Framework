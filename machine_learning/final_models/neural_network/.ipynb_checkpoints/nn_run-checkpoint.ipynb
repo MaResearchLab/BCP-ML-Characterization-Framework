{
 "cells": [
  {
   "cell_type": "markdown",
   "id": "8ee33cfe",
   "metadata": {},
   "source": [
    "# Import packages and load data"
   ]
  },
  {
   "cell_type": "code",
   "execution_count": 1,
   "id": "b3af3ca2",
   "metadata": {},
   "outputs": [],
   "source": [
    "import numpy as np\n",
    "import pandas as pd\n",
    "import torch\n",
    "import torch.nn as nn\n",
    "import torch.optim as optim\n",
    "import torch.nn.functional as F\n",
    "import torch.nn.init as init\n",
    "from sklearn.model_selection import train_test_split\n",
    "from skorch import NeuralNetRegressor\n",
    "from sklearn.model_selection import GridSearchCV"
   ]
  },
  {
   "cell_type": "code",
   "execution_count": 2,
   "id": "b8bc51ea",
   "metadata": {},
   "outputs": [
    {
     "data": {
      "text/html": [
       "<div>\n",
       "<style scoped>\n",
       "    .dataframe tbody tr th:only-of-type {\n",
       "        vertical-align: middle;\n",
       "    }\n",
       "\n",
       "    .dataframe tbody tr th {\n",
       "        vertical-align: top;\n",
       "    }\n",
       "\n",
       "    .dataframe thead th {\n",
       "        text-align: right;\n",
       "    }\n",
       "</style>\n",
       "<table border=\"1\" class=\"dataframe\">\n",
       "  <thead>\n",
       "    <tr style=\"text-align: right;\">\n",
       "      <th></th>\n",
       "      <th>init_conc</th>\n",
       "      <th>surf_conc</th>\n",
       "      <th>mw</th>\n",
       "      <th>diameter</th>\n",
       "      <th>filler_conc</th>\n",
       "      <th>anneal_t</th>\n",
       "      <th>pho_intens</th>\n",
       "    </tr>\n",
       "  </thead>\n",
       "  <tbody>\n",
       "    <tr>\n",
       "      <th>0</th>\n",
       "      <td>1.6</td>\n",
       "      <td>0.12</td>\n",
       "      <td>99.3</td>\n",
       "      <td>382</td>\n",
       "      <td>0.0</td>\n",
       "      <td>100</td>\n",
       "      <td>0.990</td>\n",
       "    </tr>\n",
       "    <tr>\n",
       "      <th>1</th>\n",
       "      <td>1.6</td>\n",
       "      <td>0.12</td>\n",
       "      <td>99.3</td>\n",
       "      <td>382</td>\n",
       "      <td>0.0</td>\n",
       "      <td>110</td>\n",
       "      <td>0.460</td>\n",
       "    </tr>\n",
       "    <tr>\n",
       "      <th>2</th>\n",
       "      <td>1.6</td>\n",
       "      <td>0.12</td>\n",
       "      <td>99.3</td>\n",
       "      <td>382</td>\n",
       "      <td>0.0</td>\n",
       "      <td>120</td>\n",
       "      <td>21.680</td>\n",
       "    </tr>\n",
       "    <tr>\n",
       "      <th>3</th>\n",
       "      <td>1.6</td>\n",
       "      <td>0.12</td>\n",
       "      <td>99.3</td>\n",
       "      <td>382</td>\n",
       "      <td>0.0</td>\n",
       "      <td>130</td>\n",
       "      <td>39.661</td>\n",
       "    </tr>\n",
       "    <tr>\n",
       "      <th>4</th>\n",
       "      <td>1.6</td>\n",
       "      <td>0.12</td>\n",
       "      <td>99.3</td>\n",
       "      <td>382</td>\n",
       "      <td>0.0</td>\n",
       "      <td>140</td>\n",
       "      <td>41.233</td>\n",
       "    </tr>\n",
       "  </tbody>\n",
       "</table>\n",
       "</div>"
      ],
      "text/plain": [
       "   init_conc  surf_conc    mw  diameter  filler_conc  anneal_t  pho_intens\n",
       "0        1.6       0.12  99.3       382          0.0       100       0.990\n",
       "1        1.6       0.12  99.3       382          0.0       110       0.460\n",
       "2        1.6       0.12  99.3       382          0.0       120      21.680\n",
       "3        1.6       0.12  99.3       382          0.0       130      39.661\n",
       "4        1.6       0.12  99.3       382          0.0       140      41.233"
      ]
     },
     "execution_count": 2,
     "metadata": {},
     "output_type": "execute_result"
    }
   ],
   "source": [
    "df = pd.read_csv('data.csv')\n",
    "df.head()"
   ]
  },
  {
   "cell_type": "markdown",
   "id": "d844360d",
   "metadata": {},
   "source": [
    "# Data pre-processing"
   ]
  },
  {
   "cell_type": "code",
   "execution_count": 3,
   "id": "a4d1a968",
   "metadata": {},
   "outputs": [],
   "source": [
    "# Create inputs and outputs\n",
    "inputs = df.drop(['pho_intens'],axis='columns')\n",
    "target = df['pho_intens']\n",
    "\n",
    "# Convert to numpy array\n",
    "inputs = inputs.values\n",
    "target = target.values"
   ]
  },
  {
   "cell_type": "code",
   "execution_count": 4,
   "id": "044249c1",
   "metadata": {},
   "outputs": [],
   "source": [
    "X_train, X_test, y_train, y_test = train_test_split(inputs,target,test_size=0.2,random_state=10)"
   ]
  },
  {
   "cell_type": "code",
   "execution_count": 5,
   "id": "1bd7f56f",
   "metadata": {},
   "outputs": [],
   "source": [
    "# Convert features to tensors (Necessary for neural networks)\n",
    "X_train = torch.tensor(X_train, dtype=torch.float32)\n",
    "y_train = torch.tensor(y_train, dtype=torch.float32).reshape(-1, 1)\n",
    "X_test = torch.tensor(X_test, dtype=torch.float32)\n",
    "y_test = torch.tensor(y_test, dtype=torch.float32).reshape(-1, 1)"
   ]
  },
  {
   "cell_type": "markdown",
   "id": "fb29e42a",
   "metadata": {},
   "source": [
    "# Define the model"
   ]
  },
  {
   "cell_type": "code",
   "execution_count": 6,
   "id": "aea5b076",
   "metadata": {},
   "outputs": [],
   "source": [
    "# Create a model class that inherits the nn module\n",
    "# Building the neural network architecture\n",
    "\n",
    "class nnRegressor(nn.Module):\n",
    "    # Modify the init to evaulate different hyperparameters (Will crash if too much evaluated at once)\n",
    "    #def __init__(self, activation=nn.ReLU, n_neurons=12, weight_init=init.xavier_uniform_):\n",
    "    def __init__(self, n_neurons=12, activation=nn.ReLU):\n",
    "        super().__init__() # Instantiate our nn.Module\n",
    "        self.fc1 = nn.Linear(6, n_neurons)\n",
    "        self.act = activation()\n",
    "        self.fc2 = nn.Linear(n_neurons, n_neurons)\n",
    "        self.fc3 = nn.Linear(n_neurons, n_neurons)\n",
    "        self.out = nn.Linear(n_neurons, 1)\n",
    "\n",
    "    def forward(self, x):\n",
    "        x = self.act(self.fc1(x))\n",
    "        x = self.act(self.fc2(x))\n",
    "        x = self.act(self.fc3(x))\n",
    "        x = self.out(x)\n",
    "        return x"
   ]
  },
  {
   "cell_type": "code",
   "execution_count": 7,
   "id": "a1c3e7eb",
   "metadata": {},
   "outputs": [],
   "source": [
    "# Pick a manual seed for randomization\n",
    "torch.manual_seed(37)\n",
    "\n",
    "# Wrapping our nn model with the skorch package so it can be used with sklearn\n",
    "nnr = NeuralNetRegressor(\n",
    "    nnRegressor,\n",
    "    criterion=nn.MSELoss,\n",
    "    optimizer=optim.Adam,\n",
    "    verbose=False\n",
    "                        )"
   ]
  },
  {
   "cell_type": "markdown",
   "id": "90311659",
   "metadata": {},
   "source": [
    "# Grid-Search"
   ]
  },
  {
   "cell_type": "code",
   "execution_count": null,
   "id": "5c33d2d7",
   "metadata": {},
   "outputs": [],
   "source": [
    "#Define the hyperparameters to evaluate\n",
    "\n",
    "param_grid = [{\n",
    "    'batch_size': [10],\n",
    "    'max_epochs': [2500],\n",
    "    #'optimizer': [optim.SGD, optim.RMSprop, optim.Adagrad, optim.Adadelta,\n",
    "    #          optim.Adam, optim.Adamax, optim.NAdam],\n",
    "    'optimizer__lr': [0.001],\n",
    "    #'optimizer__momentum': [0.0, 0.2, 0.4, 0.6, 0.8, 0.9],\n",
    "    #'module__weight_init': [init.uniform_, init.normal_, init.zeros_,\n",
    "    #                       init.xavier_normal_, init.xavier_uniform_,\n",
    "    #                       init.kaiming_normal_, init.kaiming_uniform_],\n",
    "    'module__activation': [nn.Softsign],\n",
    "    'module__n_neurons': [4]\n",
    "}]\n",
    "\n",
    "grid_search = GridSearchCV(nnr, param_grid, cv=3, n_jobs=-1, verbose=False)\n",
    "\n",
    "grid_result = grid_search.fit(X_train, y_train)"
   ]
  },
  {
   "cell_type": "code",
   "execution_count": null,
   "id": "253ae94e",
   "metadata": {},
   "outputs": [],
   "source": [
    "print(grid_search.best_params_)\n",
    "print(grid_search.best_score_)"
   ]
  },
  {
   "cell_type": "code",
   "execution_count": null,
   "id": "e10651c8",
   "metadata": {},
   "outputs": [],
   "source": [
    "df = pd.DataFrame(grid_search.cv_results_)\n",
    "df = df.sort_values(\"mean_test_score\")\n",
    "df.to_csv(\"cv_results\")"
   ]
  }
 ],
 "metadata": {
  "kernelspec": {
   "display_name": "Python 3 (ipykernel)",
   "language": "python",
   "name": "python3"
  },
  "language_info": {
   "codemirror_mode": {
    "name": "ipython",
    "version": 3
   },
   "file_extension": ".py",
   "mimetype": "text/x-python",
   "name": "python",
   "nbconvert_exporter": "python",
   "pygments_lexer": "ipython3",
   "version": "3.10.9"
  }
 },
 "nbformat": 4,
 "nbformat_minor": 5
}
